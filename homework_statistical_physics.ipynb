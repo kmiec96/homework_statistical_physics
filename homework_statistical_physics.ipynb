{
 "cells": [
  {
   "cell_type": "markdown",
   "metadata": {},
   "source": [
    "# Problem 2 \n",
    "\n",
    "Consider both ideal and real gas equations. Calculate the following quantities:\n",
    "\n",
    "b). $$\\frac{1}{V}\\left(\\frac{\\partial V}{\\partial T}\\right)_{p,n}$$\n",
    "c). $$\\left(\\frac{\\partial U}{\\partial T}\\right)_{V,n}$$"
   ]
  },
  {
   "cell_type": "markdown",
   "metadata": {},
   "source": [
    "# b)."
   ]
  },
  {
   "cell_type": "markdown",
   "metadata": {},
   "source": [
    "(FOR IDEAL GAS)\n",
    "\n",
    "First let us notice that:\n",
    "\n",
    "(1) $$pV=nRT \\Rightarrow V=\\left(\\frac{nR}{p}\\right)T.$$\n",
    "\n",
    "For the sake of legibility let us denote $A=\\left(\\frac{nR}{p}\\right)$.\n",
    "\n",
    "Having established the formula for $V$ we can procede with solving:\n",
    "\n",
    "(2) $$\\frac{1}{V}\\left(\\frac{\\partial V}{\\partial T}\\right)_{p,n}=\\frac{A}{V}\\left(\\frac{\\partial T}{\\partial T} \\right)_{p,n}=\\frac{A}{V}=\\frac{nR}{pV}.$$\n",
    "\n",
    "(FOR REAL GAS - VAN DER WAALS)\n",
    "\n",
    "For Van der Waals gas the relation between thermodynamic parameters $(p,V,T)$ is described by the following expression:\n",
    "\n",
    "(3) $$p=\\frac{nRT}{(V-nb)}-\\frac{an^{2}}{V^{2}}.$$\n",
    "\n",
    "We are supposed to calculate the following expression.\n",
    "\n",
    "(4) $$\\frac{1}{V}\\left(\\frac{\\partial V}{\\partial T}\\right)_{p,n}=\\frac{1}{V}\\left(\\frac{1}{\\left(\\frac{\\partial T}{\\partial V}\\right)_{p,n}}\\right).$$\n",
    "\n",
    "The above equation is much easier to calculate if we write:\n",
    "\n",
    "(5)$$T=\\left(p+\\frac{an^{2}}{V^{2}}\\right)\\left(V-nb\\right)\\frac{1}{nR}.$$\n",
    "\n",
    "Now, we need to calculate the partial derivative of (5) which yields:\n",
    "(6)$$\\left(\\frac{\\partial T}{\\partial V}\\right)_{p,n}=\\frac{\\partial}{\\partial V}\\left[\\frac{pV}{nR}+\\frac{an}{VR}-\\frac{pb}{R}-\\frac{abn^{2}}{V^{2}R}\\right]=\\left[\\frac{p}{nR}-\\frac{an}{V^{2}R}+\\frac{abn^{2}}{V^{3}R}\\right].$$\n",
    "\n",
    "Finally, if we join (6) and (4) we will end up with:\n",
    "\n",
    "(7)$$\\frac{1}{V}\\left(\\frac{\\partial V}{\\partial T}\\right)_{p,n}=\\frac{1}{V}\\left(\\frac{1}{\\left(\\frac{\\partial T}{\\partial V}\\right)_{p,n}}\\right)=\\frac{1}{\\left(\\frac{pV}{nR}-\\frac{an}{VR}+\\frac{abn^{2}}{V^{2}R}\\right)}$$\n",
    "\n",
    "\n"
   ]
  },
  {
   "cell_type": "markdown",
   "metadata": {},
   "source": [
    "# c)."
   ]
  },
  {
   "cell_type": "markdown",
   "metadata": {},
   "source": [
    "(ENERGY FOR IDEAL GAS)\n",
    "\n",
    "(8) $$U=\\frac{t}{2}nRT-\\frac{an^{2}}{V},$$\n",
    "\n",
    "where $t$ marks the number of degrees of freedom.\n",
    "\n",
    "(ENERGY FOR REAL GAS-VAN DER WAALS)\n",
    "\n",
    "(9) $$U=\\frac{t}{2}nRT$$\n",
    "\n",
    "\n",
    "(SOLUTION FOR IDEAL GAS)\n",
    "\n",
    "(10) $$\\left(\\frac{\\partial U}{\\partial T}\\right)_{V,n}=\\frac{\\partial}{\\partial T}\\left(\\frac{t}{2}nRT\\right)_{V,n}=\\frac{t}{2}nR$$\n",
    "\n",
    "(SOULTION FOR REAL GAS)\n",
    "\n",
    "(11) $$\\left(\\frac{\\partial U}{\\partial T}\\right)_{V,n}=\\frac{\\partial}{\\partial T}\\left(\\frac{t}{2}nRT-\\frac{an^{2}}{V}\\right)_{V,n}=\\frac{t}{2}nR$$"
   ]
  },
  {
   "cell_type": "markdown",
   "metadata": {},
   "source": [
    "# Problem 5\n",
    "One mole of ideal gas (monoatomic t=3) was heated in an isochoric way. How much did the energy\n",
    "of the gas change?"
   ]
  },
  {
   "cell_type": "markdown",
   "metadata": {},
   "source": [
    "According to the first law of thermodynamics:\n",
    "\n",
    "(12) $$dU=\\delta Q-pdV.$$\n",
    "\n",
    "Isohoric transformation can be expressed as:\n",
    "$$(p_{1},V,T_{1})\\rightarrow(p_{2},V,T_{2}).$$\n",
    "\n",
    "Since $\\Delta V=V-V=0$, there is no work done.\n",
    "\n",
    "The heat transfer, on the other hand, can be written as: \n",
    "\n",
    "(13) $$\\delta Q=nC_{V}dT=\\frac{3}{2}nRdT.$$\n",
    "\n",
    "The solution to this problem, where $n=1$ is thus simply:\n",
    "\n",
    "(14) $$\\Delta U=\\frac{3}{2}R(T_{2}-T_{1})=\\frac{3}{2}R\\Delta T.$$"
   ]
  },
  {
   "cell_type": "markdown",
   "metadata": {},
   "source": [
    "# Problem 6\n",
    "\n",
    "One mole of ideal gas was compressed adiabatically from ($p_{0}$ , $V_{0}$ ) state to ($p_{1}$ , $V_{1}$)\n",
    "state. Describe how $p$, $V$ and $U$ changed during the process. Use the first law of thermodynamics\n",
    "and eq. of the adiabatic process."
   ]
  },
  {
   "cell_type": "markdown",
   "metadata": {},
   "source": [
    "Equation of the adiabatic process: \n",
    "\n",
    "(15)\n",
    "\n",
    "$$p_{0}V_{0}^{\\gamma} = p_{1}V_{1}^{\\gamma}=const,$$\n",
    "$$pV^{\\gamma}=const,$$\n",
    "\n",
    "where $\\gamma=\\frac{C_{p}}{C_{V}}=\\frac{t+2}{t}.$\n",
    "\n",
    "Let us denote $const$ from eq (15) as $K$ so that\n",
    "\n",
    "(16) $$pV^{\\gamma}=K.$$"
   ]
  },
  {
   "cell_type": "markdown",
   "metadata": {},
   "source": [
    "An adiabatic process is one in which no heat is gained or lost by the system and so the change in internal energy is only in the form of work. Consequently, $\\Delta U=W$.\n",
    "\n",
    "(17) $$W=\\int_{V_{0}}^{V_{1}} pdV=\\int_{V_{0}}^{V_{1}}\\frac{K}{V^{\\gamma}}dV=\\frac{1}{\\gamma-1}\\left[\\frac{K}{V_{1}^{\\gamma-1}}-\\frac{K}{V_{0}^{\\gamma-1}}\\right]=\\frac{1}{\\gamma-1}\\left[p_{1}V_{1}-p_{0}V_{0}\\right].$$"
   ]
  },
  {
   "cell_type": "markdown",
   "metadata": {},
   "source": [
    "Answer:\n",
    "    \n",
    "(18) $$\\Delta U=W=\\frac{1}{\\gamma-1}\\left[p_{1}V_{1}-p_{0}V_{0}\\right]$$   \n",
    "\n",
    "(19) $$\\Delta p=p_{1}-p_{0}=\\frac{K}{V_{1}^{\\gamma}}-\\frac{K}{V_{0}^{\\gamma}}$$"
   ]
  },
  {
   "cell_type": "markdown",
   "metadata": {},
   "source": [
    "(20) $$\\Delta V=V_{1}-V_{0}=\\left(\\frac{K}{p_{1}}\\right)^{\\frac{1}{\\gamma}}-\\left(\\frac{K}{p_{0}}\\right)^{\\frac{1}{\\gamma}}$$"
   ]
  },
  {
   "cell_type": "markdown",
   "metadata": {},
   "source": [
    "We can express (18), (19), (20) in terms of temperature $T$ by using the following relations (derived using the ideal gas equation):\n",
    "\n",
    "(21)$$TV^{\\gamma-1}=const=B,$$\n",
    "\n",
    "(22)$$p^{1-\\gamma}T^{\\gamma}=const=A.$$"
   ]
  },
  {
   "cell_type": "markdown",
   "metadata": {},
   "source": [
    "Consequently we have:\n",
    "    \n",
    "(23) $$\\Delta p=p_{1}-p_{0}=\\left(\\frac{A}{T_{1}}\\right)^{\\frac{\\gamma}{1-\\gamma}}-\\left(\\frac{A}{T_{0}}\\right)^{\\frac{\\gamma}{1-\\gamma}},$$\n",
    "\n",
    "(24) $$\\Delta V=V_{1}-V_{0}=\\left(\\frac{B}{T_{1}}\\right)^{\\frac{1}{\\gamma-1}}-\\left(\\frac{B}{T_{0}}\\right)^{\\frac{1}{\\gamma-1}}.$$"
   ]
  },
  {
   "cell_type": "code",
   "execution_count": null,
   "metadata": {},
   "outputs": [],
   "source": []
  }
 ],
 "metadata": {
  "kernelspec": {
   "display_name": "Python 3",
   "language": "python",
   "name": "python3"
  },
  "language_info": {
   "codemirror_mode": {
    "name": "ipython",
    "version": 3
   },
   "file_extension": ".py",
   "mimetype": "text/x-python",
   "name": "python",
   "nbconvert_exporter": "python",
   "pygments_lexer": "ipython3",
   "version": "3.8.5"
  }
 },
 "nbformat": 4,
 "nbformat_minor": 4
}
