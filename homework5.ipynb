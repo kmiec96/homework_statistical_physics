{
 "cells": [
  {
   "cell_type": "markdown",
   "metadata": {},
   "source": [
    "# Solutions to Statystical Mechanics Problems\n",
    "\n",
    "*by Mateusz Kmieć*"
   ]
  },
  {
   "cell_type": "markdown",
   "metadata": {},
   "source": [
    "### Problem 4."
   ]
  },
  {
   "cell_type": "markdown",
   "metadata": {},
   "source": [
    "Prove equipartition theorem:\n",
    "Let $H$ be hamiltonian of a system and α be any generalized coordinate. Assume that in the\n",
    "limit $\\alpha \\rightarrow \\pm \\infty$, $H \\rightarrow \\infty$. Then the following equality follows:"
   ]
  },
  {
   "cell_type": "markdown",
   "metadata": {},
   "source": [
    "(1) $$\\Big \\langle \\alpha \\frac{\\partial H}{\\partial \\alpha}\\Big \\rangle=kT.$$"
   ]
  },
  {
   "cell_type": "markdown",
   "metadata": {},
   "source": [
    "Let $\\alpha$ be either $p_{i}$ or $q_{i}$, $(i=1,....3N)$. A macroscopic description of a gas should be obtained through characteristics of individual atoms averaged over microscopically long interval of time $\\tau$ .The ergodic hypothesis states that all accessible microstates of a given system are equiprobable over a long period of time. Consequently, the average of A over a long time equals the average over ensemble of microscopic states of a system:"
   ]
  },
  {
   "cell_type": "markdown",
   "metadata": {},
   "source": [
    "(2) $$\\big \\langle A \\big \\rangle = \\frac{\\int d\\Gamma A(p,q) e^{\\frac{-H}{kT}}}{\\int d\\Gamma e^{\\frac{-H}{kT}}},$$"
   ]
  },
  {
   "cell_type": "markdown",
   "metadata": {},
   "source": [
    "where $d\\Gamma=dp_{1}...dp_{3N}\\cdot dq_{1}...dq_{3N}=d^{3N}p \\cdot d^{3N}q.$ Consequently, $\\Big \\langle \\alpha \\frac{\\partial H}{\\partial \\alpha}\\Big \\rangle$ can be calculated as:"
   ]
  },
  {
   "cell_type": "markdown",
   "metadata": {},
   "source": [
    "(3) $$\\Big \\langle \\alpha \\frac{\\partial H}{\\partial \\alpha}\\Big \\rangle=\\frac{\\int d\\Gamma\\alpha \\frac{\\partial H}{\\partial \\alpha} e^{\\frac{-H}{kT}}}{\\int d\\Gamma e^{\\frac{-H}{kT}}}.$$"
   ]
  },
  {
   "cell_type": "markdown",
   "metadata": {},
   "source": [
    "Let us now denote $d\\Gamma = d\\bar{\\Gamma} d\\alpha$. This observation leads us to:"
   ]
  },
  {
   "cell_type": "markdown",
   "metadata": {},
   "source": [
    "(4) $$\\Big \\langle \\alpha \\frac{\\partial H}{\\partial \\alpha}\\Big \\rangle=\\frac{\\int \\alpha \\frac{\\partial H}{\\partial \\alpha} e^{\\frac{-H}{kT}}d\\alpha d\\bar{\\Gamma} }{\\int d\\Gamma e^{\\frac{-H}{kT}}}.$$"
   ]
  },
  {
   "cell_type": "markdown",
   "metadata": {},
   "source": [
    "Now we can use integration by parts formula to expand the numerator. Integration by parts can be expressed as:\n",
    "    \n",
    "(5) $$\\int_{a}^{b} f(\\alpha)g'(\\alpha)d\\alpha= \\left[f(\\alpha)g(\\alpha)\\right]_{a}^{b}-\\int_{a}^{b} f'(\\alpha)g(\\alpha)d\\alpha .$$\n",
    "\n"
   ]
  },
  {
   "cell_type": "markdown",
   "metadata": {},
   "source": [
    "If we take $g'(\\alpha)= \\frac{\\partial}{\\partial \\alpha}e^{\\frac{-H}{kT}} \\Rightarrow \\frac{\\partial H}{\\partial \\alpha} e^{\\frac{-H}{kT}}=(-kT) g'(\\alpha)$,  $a=-\\infty$, $b=+\\infty$ we will have:"
   ]
  },
  {
   "cell_type": "markdown",
   "metadata": {},
   "source": [
    "(6) $$\\int \\alpha \\frac{\\partial H}{\\partial \\alpha}e^{\\frac{-H}{kT}}d\\Gamma= (-kT)\\int \\alpha g'(\\alpha) d\\Gamma=(-kT)\\int \\left[\\alpha g(\\alpha)\\right]_{-\\infty}^{\\infty} d\\bar{\\Gamma}-(-kT)\\int g(\\alpha) d\\Gamma=\\\\ [ \\text{the first term is zero since $H\\rightarrow \\infty$ for $\\alpha\\rightarrow \\pm \\infty$}]=(kT)\\int  e^{\\frac{-H}{kT}} d\\Gamma.$$"
   ]
  },
  {
   "cell_type": "markdown",
   "metadata": {},
   "source": [
    "Consequently we have:"
   ]
  },
  {
   "cell_type": "markdown",
   "metadata": {},
   "source": [
    "(6) $$\\Big \\langle \\alpha \\frac{\\partial H}{\\partial \\alpha}\\Big \\rangle = \\frac{(kT) \\int d\\Gamma e^{\\frac{-H}{kT}}}{\\int d\\Gamma e^{\\frac{-H}{kT}}}=kT.$$"
   ]
  },
  {
   "cell_type": "markdown",
   "metadata": {},
   "source": [
    "QED."
   ]
  }
 ],
 "metadata": {
  "kernelspec": {
   "display_name": "Python 3",
   "language": "python",
   "name": "python3"
  },
  "language_info": {
   "codemirror_mode": {
    "name": "ipython",
    "version": 3
   },
   "file_extension": ".py",
   "mimetype": "text/x-python",
   "name": "python",
   "nbconvert_exporter": "python",
   "pygments_lexer": "ipython3",
   "version": "3.8.5"
  }
 },
 "nbformat": 4,
 "nbformat_minor": 4
}
