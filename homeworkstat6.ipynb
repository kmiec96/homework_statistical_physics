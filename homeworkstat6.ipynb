{
 "cells": [
  {
   "cell_type": "markdown",
   "metadata": {},
   "source": [
    "# Solutions to Statystical Mechanics Probelms - Set 6\n",
    "\n",
    "*by Mateusz Kmieć*"
   ]
  },
  {
   "cell_type": "markdown",
   "metadata": {},
   "source": [
    "### Probelm 2. \n",
    "\n",
    "Find probability that the number of particles in the gas is N. (Grand Canonical Ensemble, Ideal Gas)"
   ]
  },
  {
   "cell_type": "markdown",
   "metadata": {},
   "source": [
    "(1) $$z=e^{\\frac{\\mu}{kT}} \\text{(fugacity)}$$\n",
    "\n",
    "\n",
    "In problem 1 we have obtained $<N>$:\n",
    "    \n",
    "(2) $$<N>=z \\cdot Z(1).$$"
   ]
  },
  {
   "cell_type": "markdown",
   "metadata": {},
   "source": [
    "###### Feynmann trick:\n",
    "    \n",
    "(3) $$\\int e^{\\alpha x^{2}} dx=\\sqrt{\\pi}{\\alpha}.$$\n",
    "\n",
    "(4) $$\\int x^{2} e^{\\alpha x^{2}} dx= \\frac{d}{d\\alpha} \\int e^{\\alpha x^{2}} dx=\\frac{1}{2\\alpha}\\sqrt{\\frac{\\pi}{\\alpha}}.$$"
   ]
  },
  {
   "cell_type": "markdown",
   "metadata": {},
   "source": [
    "It was states during the class that:\n",
    "    \n",
    "(5) $$P(N)=\\sum_{n}^{N_{max}} \\frac{ze^{\\frac{-E_{n}}{kT}}}{\\Theta}= \\frac{z^{N} \\sum_{n}^{N_{max}}e^{\\frac{-E_{n}}{kT}}}{\\Theta},$$\n",
    "\n",
    "\n",
    "where $\\Theta$ is the grand canonical partition function for an ideal gas."
   ]
  },
  {
   "cell_type": "markdown",
   "metadata": {},
   "source": [
    "The partition function for a one particle system $Z(1)=\\sum_{n}^{N_{max}}e^{\\frac{-E_{n}}{kT}}$ can be calculated\n",
    "in a continuous phase space as:\n",
    "\n",
    "(6) $$Z(1)=\\frac{V}{h^{3}}\\int d^{3}p e^{-\\frac{p^{2}}{2mkT}}=2\\pi \\frac{V}{h^{3}}\\int p^{2}e^{\\frac{-p^{2}}{2mkT}} dp=[\\text{we can use feynman trick here!}]= \\\\ \\frac{V}{h^{3}}2\\pi(2mkT)^{3/2}(\\frac{1}{2} \\pi)=\\frac{V}{h^{3}}(2mkT\\pi)^{\\frac{3}{2}}=\\frac{V\\cdot l^{\\frac{3}{2}}}{h^{3}}.$$"
   ]
  },
  {
   "cell_type": "markdown",
   "metadata": {},
   "source": [
    "For $N$ particle system of indistingishible particles we have:\n",
    "\n",
    "(7) $$Z(N)=\\frac{\\left(zZ(1)\\right)^{N}}{N!}.$$"
   ]
  },
  {
   "cell_type": "markdown",
   "metadata": {},
   "source": [
    "The grand canonical partition function can be thus calculated as:\n",
    "\n",
    "(8) $$\\Theta=\\sum_{n}^{N_{max}}\\frac{(zZ(1))^{n}}{n!}.$$\n",
    "\n",
    "Consequently, the probability that the number of particles in the gas is $N$ can be calculated as:\n",
    "    \n",
    "(9) $$P(N)=\\frac{z^{N}Z(N)}{\\sum_{n}^{N_{max}}\\frac{(zZ(1))^{n}}{n!}}.$$"
   ]
  },
  {
   "cell_type": "markdown",
   "metadata": {},
   "source": [
    "Which can be rewritten as:\n",
    "    \n",
    "(10) $$P(N)=\\frac{(zZ(1))^{N}e^{-zZ(1)}}{N!}.$$"
   ]
  },
  {
   "cell_type": "markdown",
   "metadata": {},
   "source": [
    "Now if we substitute (2) into (8) we will get:\n",
    "    \n",
    "(11) $$P(N)=\\frac{<N>^{N}e^{-<N>}}{N!},$$\n",
    "\n",
    "which is the poisson distribution.\n",
    "\n",
    "\n",
    "We can insert (2) to (11) and we will end up with:"
   ]
  },
  {
   "cell_type": "markdown",
   "metadata": {},
   "source": [
    "(12) $$P(N)=\\frac{z^{N}V^{N}l^{\\frac{3N}{2}}}{h^{3N}N!}\\exp{\\left(-\\frac{zVl^{\\frac{3}{2}}}{h^{3}}\\right)}.$$"
   ]
  },
  {
   "cell_type": "markdown",
   "metadata": {},
   "source": [
    "### Problem 5.\n",
    "\n",
    "Consider gas of particles where each particle can occupy two levels: $E = 0$ or\n",
    "$E = \\epsilon$. Calculate partition function in grand canonical ensemble for the gas assuming the\n",
    "particles are indistinguishable."
   ]
  },
  {
   "cell_type": "markdown",
   "metadata": {},
   "source": [
    "$$n_{1}-\\text{the number of particles in the state } E=0.$$\n",
    "\n",
    "$$n_{2}-\\text{the number of particles in the state } E=\\epsilon.$$"
   ]
  },
  {
   "cell_type": "markdown",
   "metadata": {},
   "source": [
    "Using the definition of the grand canonical partition funstion (discrete case, formula (1) problem session 6) we arrive at:\n",
    "    \n",
    "(13) $$\\Theta=\\sum_{n_{1}}^{\\infty}\\sum_{n_{2}}^{\\infty}e^{\\frac{-1}{kT}(n_{1}\\cdot 0+n_{2}\\cdot \\epsilon)}\\cdot e^{\\frac{-\\mu}{kT}N}=\\sum_{n_{1}}^{\\infty}\\sum_{n_{2}}^{\\infty}e^{\\frac{-1}{kT}(n_{1}\\cdot 0+n_{2}\\cdot \\epsilon)}\\cdot e^{\\frac{-\\mu}{kT}(n_{1}+n_{2})}=\\left(\\sum_{n_{1}}^{\\infty}e^{\\frac{-n_{1}}{kT}(0+\\mu)}\\right)\\left(\\sum_{n_{2}}^{\\infty}e^{\\frac{-n_{2}}{kT}(\\epsilon+\\mu)}\\right).$$"
   ]
  },
  {
   "cell_type": "markdown",
   "metadata": {},
   "source": [
    "(14) $$\\Theta=\\left(\\frac{1}{1-e^{\\frac{-\\mu}{kT}}}\\right)\\left(\\frac{1}{1-e^{\\frac{-(\\epsilon+\\mu)}{kT}}}\\right).$$"
   ]
  },
  {
   "cell_type": "markdown",
   "metadata": {},
   "source": [
    "Probably I could further simplify (14) but I don't see any point in doing so."
   ]
  },
  {
   "cell_type": "code",
   "execution_count": null,
   "metadata": {},
   "outputs": [],
   "source": []
  }
 ],
 "metadata": {
  "kernelspec": {
   "display_name": "Python 3",
   "language": "python",
   "name": "python3"
  },
  "language_info": {
   "codemirror_mode": {
    "name": "ipython",
    "version": 3
   },
   "file_extension": ".py",
   "mimetype": "text/x-python",
   "name": "python",
   "nbconvert_exporter": "python",
   "pygments_lexer": "ipython3",
   "version": "3.8.5"
  }
 },
 "nbformat": 4,
 "nbformat_minor": 4
}
