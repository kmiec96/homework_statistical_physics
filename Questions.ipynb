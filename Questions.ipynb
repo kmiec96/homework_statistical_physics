{
 "cells": [
  {
   "cell_type": "markdown",
   "metadata": {},
   "source": [
    "# Questions at the interface between lectures and classes\n",
    "*Mateusz Kmieć*"
   ]
  },
  {
   "cell_type": "markdown",
   "metadata": {},
   "source": [
    "## The issue of the continuous representation of the quantum formula for a single-particle partition function. "
   ]
  },
  {
   "cell_type": "markdown",
   "metadata": {},
   "source": [
    "During session 9 (Problem 9.1) of classes we were presented with the following relation:"
   ]
  },
  {
   "cell_type": "markdown",
   "metadata": {},
   "source": [
    "(1) $$Z_{1}=\\sum_{i=0}^{m}e^{-\\beta E_{i}}=\\int_{E_{0}}^{E_{m}}e^{-\\beta E}f(E)dE,$$"
   ]
  },
  {
   "cell_type": "markdown",
   "metadata": {},
   "source": [
    "where we assume $dE>>max(E_{i+1}-E_{i}).$"
   ]
  },
  {
   "cell_type": "markdown",
   "metadata": {},
   "source": [
    "I suppose that it is possible to assume that for a quantum ideal gas (bosons/fermions) $E_{0}=0$, $E_{m}=\\infty$.\n",
    "During one of the classes we showed that for both quantum and classical gases e have:"
   ]
  },
  {
   "cell_type": "markdown",
   "metadata": {},
   "source": [
    "(2) $$f(E)=\\frac{2\\pi V}{h^{3}}(2m)^{3/2}\\sqrt{E}.$$"
   ]
  },
  {
   "cell_type": "markdown",
   "metadata": {},
   "source": [
    "remark: we did it during session 7\n",
    "\n",
    "https://drive.google.com/drive/folders/1OpEpNMPte9CoqdOngFApo5NGrQRAFvua"
   ]
  },
  {
   "cell_type": "markdown",
   "metadata": {},
   "source": [
    "Consequently (1) becomes:"
   ]
  },
  {
   "cell_type": "markdown",
   "metadata": {},
   "source": [
    "(3) $$Z_{1}=\\int_{0}^{\\infty}e^{-\\beta E}\\frac{2\\pi V}{h^{3}}(2m)^{3/2}\\sqrt{E} dE.$$"
   ]
  },
  {
   "cell_type": "markdown",
   "metadata": {},
   "source": [
    "After perforing integration for (3) we arrive at:"
   ]
  },
  {
   "cell_type": "markdown",
   "metadata": {},
   "source": [
    "(4) $$Z_{1}=\\frac{(2\\pi m k T)^{3/2}V}{h^{3}}.$$"
   ]
  },
  {
   "cell_type": "markdown",
   "metadata": {},
   "source": [
    "My concern is that I was told that (1) applies to quantum statistical mechanics. Yet we can easily obtain the same result in (4) using the classical mechanics approach."
   ]
  },
  {
   "cell_type": "markdown",
   "metadata": {},
   "source": [
    "(5) $$Z_{N}=\\frac{1}{N!}\\int e^{-\\beta H(p)}d^{3}r d^{3}p=\\frac{V^{N}}{N!}\\left(\\frac{(2\\pi m k T)^{3/2}V}{h^{3}}\\right)^{N},$$"
   ]
  },
  {
   "cell_type": "markdown",
   "metadata": {},
   "source": [
    "where $H(p)=\\frac{p^{2}}{2m}.$"
   ]
  },
  {
   "cell_type": "markdown",
   "metadata": {},
   "source": [
    "We know that:"
   ]
  },
  {
   "cell_type": "markdown",
   "metadata": {},
   "source": [
    "(6) $$Z_{N}=\\frac{(Z_{1})^{N}}{N!},$$"
   ]
  },
  {
   "cell_type": "markdown",
   "metadata": {},
   "source": [
    "which translates into:"
   ]
  },
  {
   "cell_type": "markdown",
   "metadata": {},
   "source": [
    "(7) $$Z_{1}=\\frac{(2\\pi m k T)^{3/2}V}{h^{3}}.$$"
   ]
  },
  {
   "cell_type": "markdown",
   "metadata": {},
   "source": [
    "We can clearly see that in the case of the ideal quantum gas where $H=\\frac{p^{2}}{2m}$, $f(E)$ can be interpreted as the determinant of the jacobian of the transformation between $p$ and $E$. Consequently we can calculate $f(E)$ in 3D using the following expression:\n",
    "\n",
    "$$\\int f(E) dE = \\int \\frac{d^{3}q d^{3}p}{h^{3}}=\\frac{V_{q}V_{p}}{h^{3}}.$$\n",
    "\n",
    "We can see that in the case of the ideal quantum gas we have essentially the direct correspondence between the approximation from (1) and equation (5). In other words for densly packed quantum states and $H(q,p)=H(p)$ (dependent on $p$ and independent of $q$) we can use formula (5) in the quantum case."
   ]
  },
  {
   "cell_type": "markdown",
   "metadata": {},
   "source": [
    "A similar observation (see, equation 9) was reflected in our treatment of the ideal gas of bosons in 2D, where we used the classical expression to calculate $f(E)$.\n",
    "\n",
    "The solution of this problem is presented below:"
   ]
  },
  {
   "cell_type": "markdown",
   "metadata": {},
   "source": [
    "### Problem 9.1 Prove that in 2D there is no Bose-Einstein condensation for the gas of bosons."
   ]
  },
  {
   "cell_type": "markdown",
   "metadata": {},
   "source": [
    "(7) $$E=\\frac{p^{2}}{2m}$$"
   ]
  },
  {
   "cell_type": "markdown",
   "metadata": {},
   "source": [
    "(8) $$dp=\\sqrt{\\frac{m}{2E}}dE$$"
   ]
  },
  {
   "cell_type": "markdown",
   "metadata": {},
   "source": [
    "(9) $$\\int f(E)dE=\\int\\frac{ d^{2}qd^{2}p}{h^{2}}$$"
   ]
  },
  {
   "cell_type": "markdown",
   "metadata": {},
   "source": [
    "(10) $$\\int f(E)dE=\\frac{S_{q}S_{p}}{h^{2}}$$"
   ]
  },
  {
   "cell_type": "markdown",
   "metadata": {},
   "source": [
    "Shouldn't we write $L^{2}$ instead of $S_{q}$ here? Why are tackling with $S_{q}$ at all? Isn't it the wrong formalism?"
   ]
  },
  {
   "cell_type": "markdown",
   "metadata": {},
   "source": [
    "(11) $$S_{q}=L^{2}$$"
   ]
  },
  {
   "cell_type": "markdown",
   "metadata": {},
   "source": [
    "(12) $$S_{p}=\\int pdp\\int d \\Theta=2\\pi p \\int dp=2\\pi \\int \\sqrt{2mE}\\sqrt{\\frac{m}{2E}}dE=2\\pi m \\int dE.$$"
   ]
  },
  {
   "cell_type": "markdown",
   "metadata": {},
   "source": [
    "(13) $$\\int f(E) dE= \\frac{2\\pi m L^{2}}{h^{2}} \\int dE$$"
   ]
  },
  {
   "cell_type": "markdown",
   "metadata": {},
   "source": [
    "(14) $$f(E)=\\frac{2\\pi L^{2} m}{h^{2}}.$$"
   ]
  },
  {
   "cell_type": "markdown",
   "metadata": {},
   "source": [
    "# My actual concern!"
   ]
  },
  {
   "cell_type": "markdown",
   "metadata": {},
   "source": [
    "At this point we obtained $f(E)$ independent of $E$ for the ideal gas of bosons in 2D. We derived this formula assuming (9) is valid. We effectively used the classical formula to solve a quantum problem and that worries me. I can imagine that maybe for $dE>>max(E_{i+1}-E_{i})$, $H(q,p)=H(p)$ the quantum states are so close to each other that the quantum problem simplifies to the classical one. I suppose that these two assumptions are equivallent to $L\\rightarrow \\infty$, $\\Delta p\\rightarrow 0$, $\\epsilon_{P}=\\frac{P^{2}}{2m}$ from https://www.ujk.edu.pl/strony/Stanislaw.Mrowczynski/wyklady/mech-stat-VIII.pdf (pg. 4). Even though it seems to me that I understand this fomulas well enough to solve basic problems I would like to hear your comment on why both classical and quantum formalism work here. I asked Krzysztof Jodłowski about this problem during the last class but I hadn't provided him with any formalised formulation of my concerns beforehand and so his answers didn't adress all of my worries (or at least I didn't understand). I feel that I still need to hear some comment on the conditions which have to be fulfilled for the classical and quantum formalisms to give the same results. In the lecture you are started with a discrete formula for $Z_{1}$ with a summation over all possible $p_{i}$, and transformed it into an integral over $p$ in the limit of $\\Delta p\\rightarrow 0$. As a result you obtained a formula which looks almost like that in the classical approach. The only difference was that $V$ in the classical approach appeared as a result of integration over $q$ and in the quantum case the volume was included by the introduction of boundary conditions. To sum it up, my instinct is that the classical partition function and quantum partition function are stracturally the same in this case but were obtained differently. What is more in the classical theory equation (16) wouldn't make any sense as there are no energy states. "
   ]
  },
  {
   "cell_type": "markdown",
   "metadata": {},
   "source": [
    "Having obtained (14) we can procede with solving Problem 9.1."
   ]
  },
  {
   "cell_type": "markdown",
   "metadata": {},
   "source": [
    "(15) $$<N>=\\int f(E) \\frac{1}{e^{\\beta(E-\\mu)}-1}dE=\\frac{-L^{2}}{l_{dB}^{2}}\\ln(1-e^{\\beta \\mu}).$$"
   ]
  },
  {
   "cell_type": "markdown",
   "metadata": {},
   "source": [
    "From (15) we derived the expression for $\\mu$ which turns out to be negative."
   ]
  },
  {
   "cell_type": "markdown",
   "metadata": {},
   "source": [
    "(16) $$\\mu=kT\\ln\\left(1-e^{\\frac{-<N>^{2}l_{dB}^{2}}{L^{2}}}\\right)<0.$$"
   ]
  },
  {
   "cell_type": "markdown",
   "metadata": {},
   "source": [
    "And there comes the end of the solution of this problem."
   ]
  },
  {
   "cell_type": "markdown",
   "metadata": {},
   "source": [
    "It turns out that for the gas of bosons $\\mu\\leq0$. If it were not the case the integrand in (15) (boson distibution function) would be negative, which is not physical because the average number of bosons in a quantum state cannot be negative. This observation implies that for the quantum gas of bosons the chemical potential mustn't be greater than the energy of the ground state $E=0$. In (16) we demonstrated that $\\mu<0$. If $\\mu$ weren't sharply less than 0, we would be able to calculate the value of $<N>$ for $\\mu=0$ and thus calculate the critical density of bosons. In the light of this, I believe that the last step is unnecessary. The observation that (15) blows up at $\\mu=0$ should be enough to justify why there is no bose condensation for 2D boson gas. The fact of (15) being divergent for $\\mu=0$ is equivallent to $\\rho_{\\text{critical}}=\\infty$. In such a case particles have thermal distibution of momenta for all possible densities. My question is whether I could end the solution of this problem at equation (15) with the comment that $<N>\\rightarrow \\infty$ for $\\mu=0$. This reasoning would be consistent with the solution of this problem presented during the lecture https://www.ujk.edu.pl/strony/Stanislaw.Mrowczynski/wyklady/mech-stat-VIII.pdf (pg. 10)."
   ]
  },
  {
   "cell_type": "code",
   "execution_count": null,
   "metadata": {},
   "outputs": [],
   "source": []
  }
 ],
 "metadata": {
  "kernelspec": {
   "display_name": "Python 3",
   "language": "python",
   "name": "python3"
  },
  "language_info": {
   "codemirror_mode": {
    "name": "ipython",
    "version": 3
   },
   "file_extension": ".py",
   "mimetype": "text/x-python",
   "name": "python",
   "nbconvert_exporter": "python",
   "pygments_lexer": "ipython3",
   "version": "3.8.5"
  }
 },
 "nbformat": 4,
 "nbformat_minor": 4
}
