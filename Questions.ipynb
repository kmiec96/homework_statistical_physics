{
 "cells": [
  {
   "cell_type": "markdown",
   "metadata": {},
   "source": [
    "# Questions at the interface between lectures and classes\n",
    "*Mateusz Kmieć*"
   ]
  },
  {
   "cell_type": "markdown",
   "metadata": {},
   "source": [
    "## The issue of the continuous representation of the quantum formula for a single-particle partition function. "
   ]
  },
  {
   "cell_type": "markdown",
   "metadata": {},
   "source": [
    "During session 9 of classes we were presented with the following relation:"
   ]
  },
  {
   "cell_type": "markdown",
   "metadata": {},
   "source": [
    "(1) $$Z_{1}=\\sum_{i=0}^{m}e^{-\\beta E_{i}}=\\int_{E_{0}}^{E_{m}}e^{-\\beta E}f(E)dE,$$"
   ]
  },
  {
   "cell_type": "markdown",
   "metadata": {},
   "source": [
    "where we assume $dE>>max(E_{i+1}-E_{i}).$"
   ]
  },
  {
   "cell_type": "markdown",
   "metadata": {},
   "source": [
    "I suppose that it is possible to assume that for an ideal quantum gas $E_{0}=0$, $E_{m}=\\infty$.\n",
    "During one of the classes we showed that for both a quantum and classical gas we have:"
   ]
  },
  {
   "cell_type": "markdown",
   "metadata": {},
   "source": [
    "(2) $$f(E)=\\frac{2\\pi V}{h^{3}}(2m)^{3/2}\\sqrt{E}.$$"
   ]
  },
  {
   "cell_type": "markdown",
   "metadata": {},
   "source": [
    "Consequently (1) becomes:"
   ]
  },
  {
   "cell_type": "markdown",
   "metadata": {},
   "source": [
    "(3) $$Z_{1}=\\int_{0}^{\\infty}e^{-\\beta E}\\frac{2\\pi V}{h^{3}}(2m)^{3/2}\\sqrt{E} dE.$$"
   ]
  },
  {
   "cell_type": "markdown",
   "metadata": {},
   "source": [
    "After perforing integration for (3) we arrive at:"
   ]
  },
  {
   "cell_type": "markdown",
   "metadata": {},
   "source": [
    "(4) $$Z_{1}=\\frac{(2\\pi m k T)^{3/2}V}{h^{3}}.$$"
   ]
  },
  {
   "cell_type": "markdown",
   "metadata": {},
   "source": [
    "My concern is that I was told that (1) applies to quantum statistical mechanics. Yet we can easily obtain the same result in (4) using the classical mechanics approach."
   ]
  },
  {
   "cell_type": "markdown",
   "metadata": {},
   "source": [
    "(5) $$Z_{N}=\\frac{1}{N!}\\int e^{-\\beta H(p)}d^{3}r d^{3}p=\\frac{V^{N}}{N!}\\left(\\frac{(2\\pi m k T)^{3/2}V}{h^{3}}\\right)^{N},$$"
   ]
  },
  {
   "cell_type": "markdown",
   "metadata": {},
   "source": [
    "where $H(p)=\\frac{p^{2}}{2m}.$"
   ]
  },
  {
   "cell_type": "markdown",
   "metadata": {},
   "source": [
    "We know that:"
   ]
  },
  {
   "cell_type": "markdown",
   "metadata": {},
   "source": [
    "(6) $$Z_{N}=\\frac{(Z_{1})^{N}}{N!},$$"
   ]
  },
  {
   "cell_type": "markdown",
   "metadata": {},
   "source": [
    "which translates into:"
   ]
  },
  {
   "cell_type": "markdown",
   "metadata": {},
   "source": [
    "(7) $$Z_{1}=\\frac{(2\\pi m k T)^{3/2}V}{h^{3}}.$$"
   ]
  },
  {
   "cell_type": "markdown",
   "metadata": {},
   "source": [
    "We can clearly see that in the case of the ideal quantum gas where $H=\\frac{p^{2}}{2m}$, $f(E)$ can be interpreted as the determinant of the jacobian of the transformation between $p$ and $E$. Therefore we can say that in the case of the ideal quantum gas we have essentially the direct correspondence between the approximation from (1) and equation (5). In other words for densly packed quantum states and $H(q,p)=H(p)$ (dependent on $p$ and independent of $q$) we can use formula (5) in the quantum case."
   ]
  },
  {
   "cell_type": "markdown",
   "metadata": {},
   "source": [
    "This simple observation was reflected in our treatment of ideal gas of bosons in 2D, where we used used the classical expression for $Z_{1}$ to calculate $f(E)$.\n",
    "\n",
    "The solution of this problem is presented below:"
   ]
  },
  {
   "cell_type": "markdown",
   "metadata": {},
   "source": [
    "### Problem 9.1 Prove that in 2D there is no Bose-Einstein condensation for the gas of bosons."
   ]
  },
  {
   "cell_type": "markdown",
   "metadata": {},
   "source": [
    "(7) $$E=\\frac{p^{2}}{2m}$$"
   ]
  },
  {
   "cell_type": "markdown",
   "metadata": {},
   "source": [
    "(8) $$dp=\\sqrt{\\frac{m}{2E}}dE$$"
   ]
  },
  {
   "cell_type": "markdown",
   "metadata": {},
   "source": [
    "(assumption that the quantum and classical formulas for partition function are equal.)"
   ]
  },
  {
   "cell_type": "markdown",
   "metadata": {},
   "source": [
    "(9) $$\\int f(E)dE=\\int \\frac{d^{2}q d^{2}p}{h^{2}}$$ "
   ]
  },
  {
   "cell_type": "markdown",
   "metadata": {},
   "source": [
    "(10) $$f(E)=\\frac{S_{q}S_{p}}{h^{2}}$$"
   ]
  },
  {
   "cell_type": "markdown",
   "metadata": {},
   "source": [
    "(11) $$S_{q}=L^{2}$$"
   ]
  },
  {
   "cell_type": "markdown",
   "metadata": {},
   "source": [
    "(12) $$S_{p}=pdp\\int d \\Theta=2\\pi p dp=2\\pi \\sqrt{2mE}\\sqrt{\\frac{m}{2E}}dE=2\\pi m dE.$$"
   ]
  },
  {
   "cell_type": "markdown",
   "metadata": {},
   "source": [
    "(13) $$f(E)=\\frac{2\\pi L^{2} m}{h^{2}}.$$"
   ]
  },
  {
   "cell_type": "markdown",
   "metadata": {},
   "source": [
    "# My actual concern!"
   ]
  },
  {
   "cell_type": "markdown",
   "metadata": {},
   "source": [
    "At this point we obtained $f(E)$ independent of $E$ for the ideal gas of bosons in 2D. We derived this formula assuming that (1) is the same as (5). We effectively used the classical formula to solve a quantum problem and that worries me. I can imagine that maby for $dE>>max(E_{i+1}-E_{i})$, $H(q,p)=H(p)$ the quantum states are so close to each other that the quantum problem simplifies to the classical one but I would like to hear your comment on that. I asked Krzysztof Jodłowski about this problem during the last class but I hadn't provided him with any formalised formulation of my concerns beforehand and so his answer didn't touch upon all of my concerns (or at least I didn't understand). I feel that I still need to hear some comment on the conditions which have to be fulfilled for the classical and quantum formalisms to give the same results."
   ]
  },
  {
   "cell_type": "markdown",
   "metadata": {},
   "source": [
    "#### The question about the part of the solution of Problem 9.1 presented below is directed to Krzysztof Jodłowski as I believe it would be hard for prof. Mrówczyński to grasp the context."
   ]
  },
  {
   "cell_type": "markdown",
   "metadata": {},
   "source": [
    "Having obtained (13) we can procede with solving Problem 9.1."
   ]
  },
  {
   "cell_type": "markdown",
   "metadata": {},
   "source": [
    "It turns out that after calculationg\n",
    "\n",
    "(14) $$<N>=\\int f(E) \\frac{1}{e^{\\beta(E-\\mu)}-1}dE=\\frac{-L^{2}}{l_{dB}^{2}}\\ln(1-e^{\\beta \\mu}).$$"
   ]
  },
  {
   "cell_type": "markdown",
   "metadata": {},
   "source": [
    "From (14) we derived the expression for $\\mu$ which turns out to be negative."
   ]
  },
  {
   "cell_type": "markdown",
   "metadata": {},
   "source": [
    "(15) $$\\mu=kT\\ln\\left(1-e^{\\frac{-<N>^{2}l_{dB}^{2}}{L^{2}}}\\right)<0.$$"
   ]
  },
  {
   "cell_type": "markdown",
   "metadata": {},
   "source": [
    "And there comes the end of the solution of this problem."
   ]
  },
  {
   "cell_type": "markdown",
   "metadata": {},
   "source": [
    "I don't quite inderstand what is the revelation here as must be $\\mu<0$ for the gas of bosons. If it were not the case the integrand in (14) (boson distibution function) would be negative. That is not physical because the average number of bosons in a quantum state cannot be negative. This observation implies that for the quantum gas of bosons the chemical potential must smaller greater than the energy of the ground state $E=0$. THerefore we can write $\\mu<0$. For $\\mu\\approx 0 $ the integrand in (14) blows up and the integral diverges $<N>\\rightarrow \\infty$."
   ]
  },
  {
   "cell_type": "markdown",
   "metadata": {},
   "source": [
    "During the class you brought our attention to the fact that for an ideal bose gas in 3D the equivalent of (14) would be:"
   ]
  },
  {
   "cell_type": "markdown",
   "metadata": {},
   "source": [
    "(16) $$<N>=\\frac{-L^{3}}{l_{dB}^{3}}Li_{\\frac{3}{2}}\\left(e^{\\beta \\mu}\\right).$$"
   ]
  },
  {
   "cell_type": "markdown",
   "metadata": {},
   "source": [
    "Which is finite for $\\mu=0$ and blows up for $\\mu>0$."
   ]
  },
  {
   "cell_type": "code",
   "execution_count": null,
   "metadata": {},
   "outputs": [],
   "source": []
  }
 ],
 "metadata": {
  "kernelspec": {
   "display_name": "Python 3",
   "language": "python",
   "name": "python3"
  },
  "language_info": {
   "codemirror_mode": {
    "name": "ipython",
    "version": 3
   },
   "file_extension": ".py",
   "mimetype": "text/x-python",
   "name": "python",
   "nbconvert_exporter": "python",
   "pygments_lexer": "ipython3",
   "version": "3.8.5"
  }
 },
 "nbformat": 4,
 "nbformat_minor": 4
}
