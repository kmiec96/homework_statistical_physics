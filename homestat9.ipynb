{
 "cells": [
  {
   "cell_type": "markdown",
   "metadata": {},
   "source": [
    "# Solutions to Statystical Physics Problems-Set 9\n",
    "*Mateusz Kmieć*"
   ]
  },
  {
   "cell_type": "markdown",
   "metadata": {},
   "source": [
    "## Problem 4."
   ]
  },
  {
   "cell_type": "markdown",
   "metadata": {},
   "source": [
    "We know that fermions have half–integer spin statistics and that at most one fermion\n",
    "can occupy each single particle state, which means that we have only $n_{i}=1$ or $n_{i}=0$ (where $i$ denotes state of energy $\\epsilon_{i}$). The average number of fermions in state $i$ can be expressed as:"
   ]
  },
  {
   "cell_type": "markdown",
   "metadata": {},
   "source": [
    "(0) $$\\Xi=\\sum_{\\text{states}} e^{-\\beta(\\epsilon - \\mu N)}=\\sum_{n_{1},n_{2},...}e^{-\\beta (n_{1}\\epsilon_{1}+n_{2}\\epsilon_{2}+...)} e^{\\beta \\mu (n_{1}+n_{2}+...)}=\\text{simplified notation}=\\sum_{n_{i}} e^{\\beta n_{i}(\\epsilon_{i}-\\mu)}=\\prod_{i}\\left(1+e^{-\\beta(\\epsilon_{i}-\\mu)}\\right)$$"
   ]
  },
  {
   "cell_type": "markdown",
   "metadata": {},
   "source": [
    "(1) $$<n_{i}>=\\frac{1}{\\Xi}\\sum_{n_{i}}n_{i}e^{-\\beta n_{i} (\\epsilon_{i}-\\mu)}=\\frac{\\sum_{n_{i}}n_{i}e^{-\\beta n_{i} (\\epsilon_{i}-\\mu)}}{\\sum_{n_{i}}e^{-\\beta n_{i} (\\epsilon_{i}-\\mu)}},$$\n",
    "\n",
    "where $\\mu$ is the chemical potential."
   ]
  },
  {
   "cell_type": "markdown",
   "metadata": {},
   "source": [
    "In the light of the assumption that we've made at the very beginning the denominator has the following form:"
   ]
  },
  {
   "cell_type": "markdown",
   "metadata": {},
   "source": [
    "(2) $$\\sum_{n_{i}=0,1}e^{-\\beta n_{i} (\\epsilon_{i}-\\mu)}=1+e^{-\\beta (\\epsilon_{i}-\\mu)}.$$"
   ]
  },
  {
   "cell_type": "markdown",
   "metadata": {},
   "source": [
    "The numerator takes the form:"
   ]
  },
  {
   "cell_type": "markdown",
   "metadata": {},
   "source": [
    "(3) $$\\sum_{n_{i}=0,1}n_{i} e^{-\\beta (\\epsilon_{i}-\\mu)} = e^{-\\beta (\\epsilon_{i}-\\mu)}.$$"
   ]
  },
  {
   "cell_type": "markdown",
   "metadata": {},
   "source": [
    "All things concerned we have:"
   ]
  },
  {
   "cell_type": "markdown",
   "metadata": {},
   "source": [
    "(4) $$<n_{i}>=\\frac{e^{-\\beta (\\epsilon_{i}-\\mu)}}{1+e^{-\\beta (\\epsilon_{i}-\\mu)}}.$$"
   ]
  },
  {
   "cell_type": "markdown",
   "metadata": {},
   "source": [
    "After some algebraic transformations:"
   ]
  },
  {
   "cell_type": "markdown",
   "metadata": {},
   "source": [
    "(5) $$<n_{i}>=\\frac{1}{e^{\\beta(\\epsilon_{i}-\\mu)}+1},$$"
   ]
  },
  {
   "cell_type": "markdown",
   "metadata": {},
   "source": [
    "Which can be expressed more conviniently as a function of energy:"
   ]
  },
  {
   "cell_type": "markdown",
   "metadata": {},
   "source": [
    "(6) $$n(\\epsilon)=\\frac{1}{e^{\\frac{1}{kT}(\\epsilon-\\mu)}+1},$$\n",
    "\n",
    "which is called Fermi-Dirac distribution QED."
   ]
  },
  {
   "cell_type": "markdown",
   "metadata": {},
   "source": [
    "## Problem 7"
   ]
  },
  {
   "cell_type": "markdown",
   "metadata": {},
   "source": [
    "This poroblem is analogous to problem 4 from the previous session (https://github.com/kmiec96/homework_statistical_physics/blob/main/homeworkstat8.ipynb). In the previous session we had:"
   ]
  },
  {
   "cell_type": "markdown",
   "metadata": {},
   "source": [
    "    \n",
    "(7) $$<E>=\\frac{2\\pi V (2m)^{\\frac{3}{2}}}{h^{3}}\\left(\\int_{0}^{\\infty} \\frac{(E-\\mu)}{e^{\\beta(E-\\mu)}-1}\\sqrt{E}\\right)+\\mu<N>.$$"
   ]
  },
  {
   "cell_type": "markdown",
   "metadata": {},
   "source": [
    "where\n",
    "\n",
    "(8) $$<N>=\\frac{2\\pi V (2m)^{\\frac{3}{2}}}{h^{3}}\\int_{0}^{\\infty} \\frac{\\sqrt{E}}{e^{\\beta(E-\\mu)}-1}dE.$$"
   ]
  },
  {
   "cell_type": "markdown",
   "metadata": {},
   "source": [
    "Now let us notice that in the case of this problem we should have \"+\" in the denominator of (7, 8) as a result of the form of equation (0). Consequently this time I have to use:"
   ]
  },
  {
   "cell_type": "markdown",
   "metadata": {},
   "source": [
    "(9) $$<E>=\\frac{2\\pi V (2m)^{\\frac{3}{2}}}{h^{3}}\\left(\\int_{0}^{\\infty} \\frac{(E-\\mu)}{e^{\\beta(E-\\mu)}+1}\\sqrt{E}\\right)+\\mu<N>.$$"
   ]
  },
  {
   "cell_type": "markdown",
   "metadata": {},
   "source": [
    "where\n",
    "\n",
    "(10) $$<N>=\\frac{2\\pi V (2m)^{\\frac{3}{2}}}{h^{3}}\\int_{0}^{\\infty} \\frac{\\sqrt{E}}{e^{\\beta(E-\\mu)}+1}dE.$$"
   ]
  },
  {
   "cell_type": "markdown",
   "metadata": {},
   "source": [
    "To prove that it suffices to substitute (0) into:\n",
    "    \n",
    "(11) $$U(T,V,\\mu)=<E>=-\\frac{\\partial}{\\partial \\beta}\\ln{\\Xi\\left(T,V,\\mu\\right)}+\\mu<N>.$$"
   ]
  },
  {
   "cell_type": "markdown",
   "metadata": {},
   "source": [
    "$<N>$ can by solving:\n",
    "    \n",
    "(12) $$<N>=\\int_{0}^{\\infty} n(E) f(E) dE,$$\n",
    "\n",
    "where $n(E)$ corresponds to (6)."
   ]
  },
  {
   "cell_type": "markdown",
   "metadata": {},
   "source": [
    "During the class it was shown that:\n",
    "\n",
    "(13) $$<N>=-\\frac{V}{l^{3}}Li_{\\frac{3}{2}}(-e^{\\frac{\\mu}{kT}}).$$"
   ]
  },
  {
   "cell_type": "markdown",
   "metadata": {},
   "source": [
    "The grand potential was found to be:\n",
    "    \n",
    "(14) $$\\Omega=\\frac{V}{l^{3}}Li_{\\frac{5}{2}}(-e^{\\frac{\\mu}{kT}}).$$"
   ]
  },
  {
   "cell_type": "code",
   "execution_count": null,
   "metadata": {},
   "outputs": [],
   "source": []
  }
 ],
 "metadata": {
  "kernelspec": {
   "display_name": "Python 3",
   "language": "python",
   "name": "python3"
  },
  "language_info": {
   "codemirror_mode": {
    "name": "ipython",
    "version": 3
   },
   "file_extension": ".py",
   "mimetype": "text/x-python",
   "name": "python",
   "nbconvert_exporter": "python",
   "pygments_lexer": "ipython3",
   "version": "3.8.5"
  }
 },
 "nbformat": 4,
 "nbformat_minor": 4
}
