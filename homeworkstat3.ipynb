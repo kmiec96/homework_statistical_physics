{
 "cells": [
  {
   "cell_type": "markdown",
   "metadata": {},
   "source": [
    "# Solutions to Statystical Mechanics Problems\n",
    "\n",
    "*by Mateusz Kmieć*"
   ]
  },
  {
   "cell_type": "markdown",
   "metadata": {},
   "source": [
    "### Probelm 1\n",
    "\n",
    "Introduce thermodynamical potentials via Legendre transformation for fixed number of\n",
    "moles of gas:\n",
    "      \n",
    "b). H = H(S, p) - enthalpy\n",
    "\n",
    "c). G = G(T, p) - Gibbs free energy"
   ]
  },
  {
   "cell_type": "markdown",
   "metadata": {},
   "source": [
    "Extensive parameters of state are harder to measure than intensive parameters.\n",
    "We can transform $U$ and $S$ formalisms so that independent parameters are intensive.\n",
    "This transformation is called Legendre transform."
   ]
  },
  {
   "cell_type": "markdown",
   "metadata": {},
   "source": [
    "The first and second laws of thermodynamics state that for a closed system (no exchange of particles with its surroungings-fixed number of moles of gas) the change of the internal energy can be expressed as:\n",
    "\n",
    "(1) $$dU=DQ-pdV=SdT-pdV.$$"
   ]
  },
  {
   "cell_type": "markdown",
   "metadata": {},
   "source": [
    "b). Enthalpy can be obtained by changing $(S,V)\\rightarrow (S,p).$"
   ]
  },
  {
   "cell_type": "markdown",
   "metadata": {},
   "source": [
    "$$U(S,V)\\rightarrow H(S,p)$$\n",
    "\n",
    "(2)$$p=-\\left(\\frac{\\partial U}{\\partial V}\\right)$$\n",
    "\n",
    "(3)$$-p=\\frac{U-H}{V}$$\n",
    "\n",
    "(4)$$-pV=U-H$$"
   ]
  },
  {
   "cell_type": "markdown",
   "metadata": {},
   "source": [
    "(5)$$H=pV+U$$\n",
    "\n",
    "which results in the following differential form:\n",
    "\n",
    "(6)$$dH=pdV+Vdp+SdT-pdV,$$\n",
    "\n",
    "which reads:\n",
    "\n",
    "(7)$$dH=SdT+Vdp.$$"
   ]
  },
  {
   "cell_type": "markdown",
   "metadata": {},
   "source": [
    "c). Gibbs potential can be obtained by changing $(S,V)\\rightarrow(T,p).$"
   ]
  },
  {
   "cell_type": "markdown",
   "metadata": {},
   "source": [
    "Let us perform this tranformation in two steps, first let us transform $U(S,V)$ into $F(T,V)$:\n",
    "\n",
    "1 step:\n",
    "\n",
    "$$U(S,V)\\rightarrow F(T,V)$$"
   ]
  },
  {
   "cell_type": "markdown",
   "metadata": {},
   "source": [
    "(8)$$T=\\frac{\\partial U}{\\partial S}$$\n",
    "\n",
    "(9)$$T=\\frac{U-F}{S}$$\n",
    "\n",
    "we can write the above equation as:\n",
    "\n",
    "(10)$$F=U-TS,$$\n",
    "\n",
    "which can be written in a differential form as:"
   ]
  },
  {
   "cell_type": "markdown",
   "metadata": {},
   "source": [
    "(11)$$dF=dU-TdS-SdT=SdT-pdV-TdS-SdT,$$\n",
    "\n",
    "which reads:\n",
    "\n",
    "(12)$$dF=-pdV-TdS.$$"
   ]
  },
  {
   "cell_type": "markdown",
   "metadata": {},
   "source": [
    "2 step:\n",
    "\n",
    "(13)$$F(T,V) \\rightarrow G(T,p)$$\n",
    "\n",
    "(14)$$p=-\\left(\\frac{\\partial F}{\\partial V}\\right)$$\n",
    "\n",
    "(15)$$p=\\frac{F-G}{-V}$$\n",
    "\n",
    "(16)$$-pV-F=-G$$\n",
    "\n",
    "(17)$$G=pV+F$$"
   ]
  },
  {
   "cell_type": "markdown",
   "metadata": {},
   "source": [
    "which can be expressed in a differential form as:\n",
    "\n",
    "(20)$$dG=pdV+Vdp-pdV-TdS,$$\n",
    "\n",
    "which reads:\n",
    "\n",
    "(21)$$dG=Vdp-TdS.$$"
   ]
  },
  {
   "cell_type": "markdown",
   "metadata": {},
   "source": [
    "### Problem 4\n",
    "\n",
    "solution inspired by https://cs.pwr.edu.pl/cichon/Math/StirlingApp.pdf"
   ]
  },
  {
   "cell_type": "markdown",
   "metadata": {},
   "source": [
    "Prove Stirling approximation:"
   ]
  },
  {
   "cell_type": "markdown",
   "metadata": {},
   "source": [
    "(22)$$n! \\approx \\sqrt{2\\pi n} \\cdot n^{n} \\cdot e^{-n}.$$"
   ]
  },
  {
   "cell_type": "markdown",
   "metadata": {},
   "source": [
    "Hint: First prove"
   ]
  },
  {
   "cell_type": "markdown",
   "metadata": {},
   "source": [
    "(23) $$n! \\sim C \\sqrt{n}\\cdot n^{n} \\cdot e^{-n},$$"
   ]
  },
  {
   "cell_type": "markdown",
   "metadata": {},
   "source": [
    "where C is a constant which you can determine by using the Wallis formula:"
   ]
  },
  {
   "cell_type": "markdown",
   "metadata": {},
   "source": [
    "(24) $$\\prod^{\\infty}_{n=1} \\frac{2n}{2n-1}\\cdot \\frac{2n}{2n+1}=\\frac{\\pi}{2}.$$"
   ]
  },
  {
   "cell_type": "markdown",
   "metadata": {},
   "source": [
    "(non-gradable) What is the next term in the approximation."
   ]
  },
  {
   "cell_type": "markdown",
   "metadata": {},
   "source": [
    "We can rewrite eq. (22) in an alternative form:\n",
    "    \n",
    "(25) $$\\lim_{n\\rightarrow \\infty}\\frac{n!}{\\sqrt{2\\pi n}\\left(\\frac{n}{e}\\right)^{n}}=1.$$"
   ]
  },
  {
   "cell_type": "markdown",
   "metadata": {},
   "source": [
    "Let $a_{n}=\\frac{n!}{\\sqrt{2n} \\left(\\frac{n}{e}\\right)^{n}}$.\n",
    "Now we will show that:\n",
    "\n",
    "(26)$$\\lim_{n\\rightarrow \\infty}a_{n}=C.$$\n",
    "\n",
    "If we divide both sides of the aforementioned equation by $C$ we will end up with:\n",
    "\n",
    "(27)$$\\lim_{n\\rightarrow \\infty}\\frac{a_{n}}{C}=1,$$\n",
    "\n",
    "which reads:\n",
    "\n",
    "(28)$$\\lim_{n\\rightarrow \\infty}\\frac{n!}{C\\sqrt{2n} \\left(\\frac{n}{e}\\right)^{n}}=1.$$\n",
    "\n"
   ]
  },
  {
   "cell_type": "markdown",
   "metadata": {},
   "source": [
    "There are 2 steps of the poof of (22). \n",
    "\n",
    "1. Firstly, we need to prove (28).\n",
    "\n",
    "2. Secondly, we need to calculate $C$ by combining (28) and Wallis formula."
   ]
  },
  {
   "cell_type": "markdown",
   "metadata": {},
   "source": [
    "1. step (Proof of 28)\n",
    "\n"
   ]
  },
  {
   "cell_type": "markdown",
   "metadata": {},
   "source": [
    "Let $b_{n}=\\ln{a_{n}}$ than:\n",
    "\n",
    "(29)$$b_{n}-b_{n+1}=\\frac{(2n+1)}{2}\\ln{\\left(\\frac{n+1}{n}\\right)}-1.$$"
   ]
  },
  {
   "cell_type": "markdown",
   "metadata": {},
   "source": [
    "It can be shown by Taylor series ($|t|<1$) that:\n",
    "    \n",
    "(30) $$\\ln{\\left(\\frac{1+t}{1-t}\\right)}=2\\sum^{\\infty}_{k=0}\\frac{1}{2k+1}t^{2k+1}.$$\n",
    "\n",
    "We can use apply (30) to $\\ln{\\left(\\frac{n+1}{n}\\right)}$ for $t=\\frac{1}{2n+1}$. After this operation we get:"
   ]
  },
  {
   "cell_type": "markdown",
   "metadata": {},
   "source": [
    "(31)$$b_{n}-b_{n+1}=\\sum_{k=1}^{\\infty}\\frac{1}{2k+1}\\left(\\frac{1}{2n+1}\\right)^{2k}.$$"
   ]
  },
  {
   "cell_type": "markdown",
   "metadata": {},
   "source": [
    "Consequently,\n",
    "\n",
    "(32) $$b_{n}-b_{n+1}<\\sum_{k=1}^{\\infty}\\left(\\frac{1}{(2n+1)^{2}}\\right)^{k}==\\frac{1}{4n(n+1)}.$$"
   ]
  },
  {
   "cell_type": "markdown",
   "metadata": {},
   "source": [
    "Using the above equation we will get:\n",
    "\n",
    "(33) $$b_{1}-b_{n}=(b_{1}-b_{2})+(b_{2}-b_{3})+...+(b_{n-1}-b_{n})<\\frac{1}{4}\\sum_{m=1}^{n-1}\\frac{1}{m(m+1)}<\\frac{1}{4}.$$"
   ]
  },
  {
   "cell_type": "markdown",
   "metadata": {},
   "source": [
    "Equation (33) implies:\n",
    "    \n",
    "(34) $$b_{n}>b_{1}-\\frac{1}{4}=\\frac{e}{\\sqrt{2}}-\\frac{1}{4}.$$"
   ]
  },
  {
   "cell_type": "markdown",
   "metadata": {},
   "source": [
    "A decreasing sequence ($b_{n}$, $b_{n}-b_{n+1}>0$) which is limited from the bottom (see, 34) must be convergent to a certaim limit ($D$):\n",
    "\n",
    "(35) $$\\lim_{n \\rightarrow \\infty}a_{n}=\\lim_{n\\rightarrow \\infty}e^{b_{n}}=e^{D}=C.$$"
   ]
  },
  {
   "cell_type": "markdown",
   "metadata": {},
   "source": [
    "2. step ($C$ calculation)"
   ]
  },
  {
   "cell_type": "markdown",
   "metadata": {},
   "source": [
    "Wallis formula can be written in a compact way:\n",
    "\n",
    "(36) $$\\lim_{n\\rightarrow \\infty} \\frac{2^{4n}(n!)^{4}}{(2n!)^{2}(2n+1)}=\\frac{\\pi}{2}$$"
   ]
  },
  {
   "cell_type": "markdown",
   "metadata": {},
   "source": [
    "In the previous section we proved that $n! \\sim C \\sqrt{n} \\cdot \\left(\\frac{n}{e}\\right)^{n}.$ We can now use this result in order to approximate equation (36). Then we will get:\n",
    "\n",
    "(37)$$\\lim_{n\\rightarrow \\infty}\\frac{2^{4n}C^{4}(2n)^{2}\\left(\\frac{n}{e}\\right)^{4n}}{C^{2}4n\\left(\\frac{2n}{e}\\right)^{2n}(2n+1)}=C^{2}\\lim_{n\\rightarrow \\infty}\\frac{n^{2}}{n(2n+1)}=\\frac{C^{2}}{2}.$$"
   ]
  },
  {
   "cell_type": "markdown",
   "metadata": {},
   "source": [
    "The aforementioned equation implies that:\n",
    "    \n",
    "(38)$$C=\\sqrt{\\pi}.$$\n",
    "\n",
    "QED."
   ]
  }
 ],
 "metadata": {
  "kernelspec": {
   "display_name": "Python 3",
   "language": "python",
   "name": "python3"
  },
  "language_info": {
   "codemirror_mode": {
    "name": "ipython",
    "version": 3
   },
   "file_extension": ".py",
   "mimetype": "text/x-python",
   "name": "python",
   "nbconvert_exporter": "python",
   "pygments_lexer": "ipython3",
   "version": "3.8.5"
  }
 },
 "nbformat": 4,
 "nbformat_minor": 4
}
