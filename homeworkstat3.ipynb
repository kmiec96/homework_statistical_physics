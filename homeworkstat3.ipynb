{
 "cells": [
  {
   "cell_type": "markdown",
   "metadata": {},
   "source": [
    "# Solutions to Statystical Mechanics Problems\n",
    "\n",
    "*by Mateusz Kmieć*"
   ]
  },
  {
   "cell_type": "markdown",
   "metadata": {},
   "source": [
    "### Probelm 1\n",
    "\n",
    "Introduce thermodynamical potentials via Legendre transformation for fixed number of\n",
    "moles of gas:\n",
    "      \n",
    "b). H = H(S, p) - enthalpy\n",
    "\n",
    "c). G = G(T, p) - Gibbs free energy"
   ]
  },
  {
   "cell_type": "markdown",
   "metadata": {},
   "source": [
    "Extensive parameters of state are harder to measure than intensive parameters.\n",
    "We can transform $U$ and $S$ formalisms so that independent parameters are intensive.\n",
    "This transformation is called Legendre transform."
   ]
  },
  {
   "cell_type": "markdown",
   "metadata": {},
   "source": [
    "The first and second laws of thermodynamics state that for a closed system (no exchange of particles with its surroungings-fixed number of moles of gas) the change of the internal energy can be expressed as:\n",
    "\n",
    "(1) $$dU=DQ-pdV=SdT-pdV.$$"
   ]
  },
  {
   "cell_type": "markdown",
   "metadata": {},
   "source": [
    "b). Enthalpy can be obtained by changing $(S,V)\\rightarrow (S,p).$"
   ]
  },
  {
   "cell_type": "markdown",
   "metadata": {},
   "source": [
    "$$U(S,V)\\rightarrow H(S,p)$$\n",
    "\n",
    "$$p=-\\left(\\frac{\\partial U}{\\partial V}\\right)$$\n",
    "\n",
    "$$-p=\\frac{U-H}{V}$$\n",
    "\n",
    "$$-pV=U-H$$\n",
    "\n",
    "$$H=pV+U$$\n",
    "\n",
    "which results in the following differential form:\n",
    "\n",
    "$$dH=pdV+Vdp+SdT-pdV,$$\n",
    "\n",
    "which reads:\n",
    "\n",
    "$$dH=SdT+Vdp.$$"
   ]
  },
  {
   "cell_type": "markdown",
   "metadata": {},
   "source": [
    "c). Gibbs potential can be obtained by changing $(S,V)\\rightarrow(T,p).$"
   ]
  },
  {
   "cell_type": "markdown",
   "metadata": {},
   "source": [
    "Let us perform this tranformation in two steps, first let us transform $U(S,V)$ into $F(T,V)$:\n",
    "\n",
    "1 step:\n",
    "\n",
    "$$U(S,V)\\rightarrow F(T,V)$$\n",
    "\n",
    "$$T=\\frac{\\partial U}{\\partial S}$$\n",
    "\n",
    "$$T=\\frac{U-F}{S}$$\n",
    "\n",
    "we can write the above equation as:\n",
    "\n",
    "$$F=U-TS,$$\n",
    "\n",
    "which can be written in a differential form as:\n",
    "\n",
    "$$dF=dU-TdS-SdT=SdT-pdV-TdS-SdT,$$\n",
    "\n",
    "which reads:\n",
    "\n",
    "$$dF=-pdV-TdS.$$\n",
    "\n",
    "2 step:\n",
    "\n",
    "$$F(T,V) \\rightarrow G(T,p)$$\n",
    "\n",
    "$$p=-\\left(\\frac{\\partial F}{\\partial V}\\right)$$\n",
    "\n",
    "$$p=\\frac{F-G}{-V}$$\n",
    "\n",
    "$$-pV-F=-G$$\n",
    "\n",
    "$$G=pV+F$$\n",
    "\n",
    "which can be expressed in a differential form as:\n",
    "$$dG=pdV+Vdp-pdV-TdS,$$\n",
    "\n",
    "which reads:\n",
    "$$dG=Vdp-TdS.$$\n",
    "\n"
   ]
  },
  {
   "cell_type": "markdown",
   "metadata": {},
   "source": [
    "### Problem 4"
   ]
  },
  {
   "cell_type": "markdown",
   "metadata": {},
   "source": [
    "Prove Stirling approximation:"
   ]
  },
  {
   "cell_type": "markdown",
   "metadata": {},
   "source": [
    "$$n! \\approx \\sqrt{2\\pi n} \\cdot n^{n} \\cdot e^{-n}.$$"
   ]
  },
  {
   "cell_type": "markdown",
   "metadata": {},
   "source": [
    "Hint: First prove"
   ]
  },
  {
   "cell_type": "markdown",
   "metadata": {},
   "source": [
    "$$n! \\sim C \\sqrt{n}\\cdot n^{n} \\cdot e^{-n},$$"
   ]
  },
  {
   "cell_type": "markdown",
   "metadata": {},
   "source": [
    "where C is a constant which you can determine by using the Wallis formula:"
   ]
  },
  {
   "cell_type": "markdown",
   "metadata": {},
   "source": [
    "$$\\prod^{\\infty}_{n=1} \\frac{2n}{2n-1}\\cdot \\frac{2n}{2n+1}=\\frac{\\pi}{2}.$$"
   ]
  },
  {
   "cell_type": "markdown",
   "metadata": {},
   "source": [
    "(non-gradable) What is the next term in the approximation."
   ]
  },
  {
   "cell_type": "code",
   "execution_count": null,
   "metadata": {},
   "outputs": [],
   "source": []
  }
 ],
 "metadata": {
  "kernelspec": {
   "display_name": "Python 3",
   "language": "python",
   "name": "python3"
  },
  "language_info": {
   "codemirror_mode": {
    "name": "ipython",
    "version": 3
   },
   "file_extension": ".py",
   "mimetype": "text/x-python",
   "name": "python",
   "nbconvert_exporter": "python",
   "pygments_lexer": "ipython3",
   "version": "3.8.5"
  }
 },
 "nbformat": 4,
 "nbformat_minor": 4
}
