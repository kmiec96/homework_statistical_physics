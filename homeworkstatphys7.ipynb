{
 "cells": [
  {
   "cell_type": "markdown",
   "metadata": {},
   "source": [
    "# Solution to Statystical Physics Problems\n",
    "\n",
    "*by Mateusz Kmieć*"
   ]
  },
  {
   "cell_type": "markdown",
   "metadata": {},
   "source": [
    "4.Consider gas of particles where each particle can occupy two levels: $E = 0$ or\n",
    "$E = \\epsilon$. Knowing the partition function in grand canonical ensemble for the gas (assuming the\n",
    "particles are indistinguishable) is:\n",
    "\n",
    "$$\\Theta = \\frac{1}\n",
    "{1 − y}\\frac{1}\n",
    "{1 − xy},$$\n",
    "\n",
    "\n",
    "where $x = e^{−E/(kT)}$ and $y = e^{\\mu/(kT)}$\n",
    ", calculate grand potential $\\Omega$, mean number of particles\n",
    "$\\bar{N}$, entropy $S$, pressure $p$ and derive equation of state of the gas."
   ]
  },
  {
   "cell_type": "markdown",
   "metadata": {},
   "source": [
    "$$\\Theta=\\frac{1}{1-e^{-\\frac{E}{kT}}}\\frac{1}{1-e^{\\frac{(\\mu-E)}{kT}}}.$$"
   ]
  },
  {
   "cell_type": "markdown",
   "metadata": {},
   "source": [
    "Calculate grand potential $\\Omega$:"
   ]
  },
  {
   "cell_type": "markdown",
   "metadata": {},
   "source": [
    "(1) $$\\Omega=-kT\\ln(\\Theta),$$"
   ]
  },
  {
   "cell_type": "markdown",
   "metadata": {},
   "source": [
    "(2) $$\\Omega = -kT \\ln\\left(\\frac{1}{1-e^{-\\frac{E}{kT}}}\\frac{1}{1-e^{\\frac{(\\mu-E)}{kT}}}\\right).$$"
   ]
  },
  {
   "cell_type": "markdown",
   "metadata": {},
   "source": [
    "Calculate average $\\bar{N}$."
   ]
  },
  {
   "cell_type": "markdown",
   "metadata": {},
   "source": [
    "(3) $$\\bar{N}=-\\frac{\\partial \\Omega}{\\partial \\mu}.$$"
   ]
  },
  {
   "cell_type": "markdown",
   "metadata": {},
   "source": [
    "In order to calculate (3), out of laziness, I typed it into mathematica, I got the answer:"
   ]
  },
  {
   "cell_type": "markdown",
   "metadata": {},
   "source": [
    "(4) $$\\bar{N}=\\frac{e^{\\frac{\\mu-E}{kT}}}{1-e^{\\frac{\\mu-E}{kT}}}.$$"
   ]
  },
  {
   "cell_type": "markdown",
   "metadata": {},
   "source": [
    "Calculate entropy:"
   ]
  },
  {
   "cell_type": "markdown",
   "metadata": {},
   "source": [
    "(5) $$S=-\\frac{\\partial \\Omega}{\\partial T},$$"
   ]
  },
  {
   "cell_type": "markdown",
   "metadata": {},
   "source": [
    "Enropy was also calculated using mathematica:"
   ]
  },
  {
   "cell_type": "markdown",
   "metadata": {},
   "source": [
    "(6) $$S=\\frac{e^{1-\\frac{E}{kT}}kT}{\\left(1-e^{-\\frac{E}{kT}}\\right)kT^{2}}.$$"
   ]
  },
  {
   "cell_type": "markdown",
   "metadata": {},
   "source": [
    "During lecture we were given formula (5):"
   ]
  },
  {
   "cell_type": "markdown",
   "metadata": {},
   "source": [
    "(7) $$\\Omega = -pV = -kT \\ln\\left( \\Theta \\right),$$"
   ]
  },
  {
   "cell_type": "markdown",
   "metadata": {},
   "source": [
    "The above can be converted into:"
   ]
  },
  {
   "cell_type": "markdown",
   "metadata": {},
   "source": [
    "\n",
    "$$p=\\frac{kT\\ln\\left( \\Theta \\right)}{V}.$$"
   ]
  },
  {
   "cell_type": "code",
   "execution_count": null,
   "metadata": {},
   "outputs": [],
   "source": []
  }
 ],
 "metadata": {
  "kernelspec": {
   "display_name": "Python 3",
   "language": "python",
   "name": "python3"
  },
  "language_info": {
   "codemirror_mode": {
    "name": "ipython",
    "version": 3
   },
   "file_extension": ".py",
   "mimetype": "text/x-python",
   "name": "python",
   "nbconvert_exporter": "python",
   "pygments_lexer": "ipython3",
   "version": "3.8.5"
  }
 },
 "nbformat": 4,
 "nbformat_minor": 4
}
