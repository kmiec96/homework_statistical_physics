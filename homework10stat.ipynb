{
 "cells": [
  {
   "cell_type": "markdown",
   "metadata": {},
   "source": [
    "# Solutions to Statystical Mechanics Problems\n",
    "\n",
    "*by Mateusz Kmieć*"
   ]
  },
  {
   "cell_type": "markdown",
   "metadata": {},
   "source": [
    "(HW) Prove Sommerfeld expansion stated in general form: for any smooth function $H(\\epsilon)$\n",
    "the following holds:"
   ]
  },
  {
   "cell_type": "markdown",
   "metadata": {},
   "source": [
    "(1) $$\\int_{-\\infty}^{\\infty}H(\\epsilon)f(\\epsilon)d\\epsilon=\\int_{-\\infty}^{\\mu} d\\epsilon H(\\epsilon) + \\frac{\\pi^{2}}{6}\\left(k_{B}T\\right)^{2}\\frac{dH(\\epsilon)}{d\\epsilon} \\bigg\\rvert_{\\epsilon=\\mu}+\\frac{7}{360}\\pi^{4}\\left(k_{B}T\\right)^{4}\\frac{d^{3}H(\\epsilon)}{d\\epsilon}\\bigg\\rvert_{\\epsilon=\\mu},$$"
   ]
  },
  {
   "cell_type": "markdown",
   "metadata": {},
   "source": [
    "where \n",
    "\n",
    "(2) $$f_{FD}(\\epsilon)=\\frac{1}{1+e^{\\frac{\\epsilon-\\mu}{k_{B}T}}}.$$"
   ]
  },
  {
   "cell_type": "markdown",
   "metadata": {},
   "source": [
    "Let us start the deriviation with integrating by parts"
   ]
  },
  {
   "cell_type": "markdown",
   "metadata": {},
   "source": [
    "(3) $$\\int_{-\\infty}^{\\infty}H(\\epsilon)f(\\epsilon)d\\epsilon = K(\\infty) f(\\infty) - K(-\\infty) f(-\\infty)-\\int_{-\\infty}^{\\infty}K(\\epsilon)\\frac{df}{d\\epsilon}d\\epsilon,$$"
   ]
  },
  {
   "cell_type": "markdown",
   "metadata": {},
   "source": [
    "where"
   ]
  },
  {
   "cell_type": "markdown",
   "metadata": {},
   "source": [
    "(4) $$K(\\epsilon)=\\int_{-\\infty}^{\\epsilon}H(\\epsilon)d\\epsilon.$$"
   ]
  },
  {
   "cell_type": "markdown",
   "metadata": {},
   "source": [
    "Let us now notice that $K(-\\infty)=0$, $f(\\infty)=0$, thus:\n",
    "    \n",
    "(5) $$\\int_{-\\infty}^{\\infty}H(\\epsilon)f(\\epsilon)d\\epsilon=-\\int_{-\\infty}^{\\infty}K(\\epsilon)\\frac{df}{d\\epsilon}d\\epsilon.$$"
   ]
  },
  {
   "cell_type": "markdown",
   "metadata": {},
   "source": [
    "(6) $$-\\frac{df(\\epsilon)}{d\\epsilon}=\\frac{e^{\\frac{\\epsilon-\\mu}{k_{B}T}}}{k_{B}T\\left(e^{\\frac{\\epsilon-\\mu}{k_{B}T}}+1\\right)^{2}}$$"
   ]
  },
  {
   "cell_type": "markdown",
   "metadata": {},
   "source": [
    "(7) $$K(\\epsilon)=K(\\mu)+\\frac{dK(\\epsilon)}{d\\epsilon}\\bigg\\rvert_{\\epsilon=\\mu}\\left(\\epsilon-\\mu\\right)+\\frac{1}{2}\\frac{d^{2}K(\\epsilon)}{d^{2}\\epsilon}\\bigg\\rvert_{\\epsilon=\\mu}\\left(\\epsilon-\\mu\\right)^{2}+\\frac{1}{6}\\frac{d^{3}K(\\epsilon)}{d^{3}\\epsilon}\\bigg\\rvert_{\\epsilon=\\mu}\\left(\\epsilon-\\mu\\right)^{3}+...$$"
   ]
  },
  {
   "cell_type": "markdown",
   "metadata": {},
   "source": [
    "Now we can subtitute (7) into (5). The first four elements will correspond to (1). We can easily see that if we calculate the values of the following integrals:"
   ]
  },
  {
   "cell_type": "markdown",
   "metadata": {},
   "source": [
    "(a) $$\\int_{-\\infty}^{\\infty}\\frac{e^{x}}{(1+e^{x})^{2}}=1$$"
   ]
  },
  {
   "cell_type": "markdown",
   "metadata": {},
   "source": [
    "(b) $$\\int_{\\infty}^{\\infty}\\frac{xe^{x}}{(1+e^{x})^{2}}=0$$"
   ]
  },
  {
   "cell_type": "markdown",
   "metadata": {},
   "source": [
    "(c) $$\\int_{-\\infty}^{\\infty}\\frac{x^{2}e^{x}}{(1+e^{x})^{2}}=\\frac{\\pi^{2}}{3}$$"
   ]
  },
  {
   "cell_type": "markdown",
   "metadata": {},
   "source": [
    "(d) $$\\int_{-\\infty}^{\\infty}\\frac{x^{3}e^{x}}{(1+e^{x})^{2}}=0$$"
   ]
  },
  {
   "cell_type": "markdown",
   "metadata": {},
   "source": [
    "(e) $$\\int_{-\\infty}^{\\infty}\\frac{x^{4}e^{x}}{(1+e^{x})^{2}}=\\frac{7\\pi^{4}}{15}$$"
   ]
  },
  {
   "cell_type": "markdown",
   "metadata": {},
   "source": [
    "(f) $$\\int_{-\\infty}^{\\infty}\\frac{x^{5}e^{x}}{(1+e^{x})^{2}}=0$$"
   ]
  },
  {
   "cell_type": "markdown",
   "metadata": {},
   "source": [
    "where $x=\\epsilon-\\mu.$"
   ]
  },
  {
   "cell_type": "markdown",
   "metadata": {},
   "source": [
    "(a) was used to obtain $\\int_{-\\infty}^{\\mu} d\\epsilon H(\\epsilon)$,"
   ]
  },
  {
   "cell_type": "markdown",
   "metadata": {},
   "source": [
    "(c) was used to obtain $\\frac{\\pi^{2}}{6}\\left(k_{B}T\\right)^{2}\\frac{dH(\\epsilon)}{d\\epsilon} \\bigg\\rvert_{\\epsilon=\\mu}$"
   ]
  },
  {
   "cell_type": "markdown",
   "metadata": {},
   "source": [
    "(e) was used $\\frac{7}{360}\\pi^{4}\\left(k_{B}T\\right)^{4}\\frac{d^{3}H(\\epsilon)}{d\\epsilon}\\bigg\\rvert_{\\epsilon=\\mu}.$"
   ]
  },
  {
   "cell_type": "markdown",
   "metadata": {},
   "source": [
    "(b,d,f) cause even terms of taylor series expansion to vanish."
   ]
  },
  {
   "cell_type": "code",
   "execution_count": null,
   "metadata": {},
   "outputs": [],
   "source": []
  }
 ],
 "metadata": {
  "kernelspec": {
   "display_name": "Python 3",
   "language": "python",
   "name": "python3"
  },
  "language_info": {
   "codemirror_mode": {
    "name": "ipython",
    "version": 3
   },
   "file_extension": ".py",
   "mimetype": "text/x-python",
   "name": "python",
   "nbconvert_exporter": "python",
   "pygments_lexer": "ipython3",
   "version": "3.8.5"
  }
 },
 "nbformat": 4,
 "nbformat_minor": 4
}
