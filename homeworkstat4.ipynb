{
 "cells": [
  {
   "cell_type": "markdown",
   "metadata": {},
   "source": [
    "# Solutions to Statystical Mechanics Probelms - Set 4\n",
    "\n",
    "*by Mateusz Kmieć*"
   ]
  },
  {
   "cell_type": "markdown",
   "metadata": {},
   "source": [
    "### Probelm 3. \n",
    "\n",
    "Calculate heat capacity $C_{V}$ of Einstein solid."
   ]
  },
  {
   "cell_type": "markdown",
   "metadata": {},
   "source": [
    "1. Microcanonical enemble solution"
   ]
  },
  {
   "cell_type": "markdown",
   "metadata": {},
   "source": [
    "Heat capacity of an object  is defined through the internal energy U as:"
   ]
  },
  {
   "cell_type": "markdown",
   "metadata": {},
   "source": [
    "(1) $$C_{V}=\\left(\\frac{\\partial U}{\\partial T}\\right)_{V}.$$"
   ]
  },
  {
   "cell_type": "markdown",
   "metadata": {},
   "source": [
    "Temperature (T) can be obtained from entropy:\n",
    "\n",
    "(2) $$\\frac{1}{T}=\\frac{\\partial S}{\\partial U}.$$"
   ]
  },
  {
   "cell_type": "markdown",
   "metadata": {},
   "source": [
    "Einstein's solid is made of $N$ atoms with 3 degrees of freedom each. Consequently, the Einstein's solid can be decribed by $3N$ quantum harmonic oscillators."
   ]
  },
  {
   "cell_type": "markdown",
   "metadata": {},
   "source": [
    "Possible energy levels of a harmonic oscillaor can be written as:\n",
    "    \n",
    "(3) $$E_{n}=\\hbar \\omega \\left(n+\\frac{1}{2}\\right)=\\hbar\\omega n +\\frac{\\hbar \\omega}{2}.$$"
   ]
  },
  {
   "cell_type": "markdown",
   "metadata": {},
   "source": [
    "If we denote the number of quanta of energy as $q$ and the number of harmonic oscillators as $3N$,\n",
    "we will be able to express the internal energy of Einstein's solid as:\n",
    "\n",
    "(4) $$U=\\frac{3N\\hbar \\omega}{2}+q\\hbar \\omega.$$"
   ]
  },
  {
   "cell_type": "markdown",
   "metadata": {},
   "source": [
    "Now let us calculate the number of all possible microstates calculated for $q$ quanta of energy distributed among $3N$ quantum harmonic oscillators. "
   ]
  },
  {
   "cell_type": "markdown",
   "metadata": {},
   "source": [
    "The number of microstates $\\Omega$ can be calculated as (combinations with repetitions https://pl.wikipedia.org/wiki/Kombinacja_z_powt%C3%B3rzeniami):\n",
    "    \n",
    "(4)$$\\Omega=\\frac{(q+3N-1)!}{q!(3N-1)!}.$$   "
   ]
  },
  {
   "cell_type": "markdown",
   "metadata": {},
   "source": [
    "Having obtained the number of microstates we can write that the entropy of a system is:\n",
    "    \n",
    "(5) $$S=k\\ln{\\Omega}=k\\ln{\\frac{(q+3N-1)!}{q!(3N-1)!}}.$$\n",
    "\n",
    "We can simplify (5) using Stirling's approximation:\n",
    "\n",
    "(6) $$S \\approx k(q+3N)\\ln{(q+3N)}-k(3N)\\ln{(3N)}-kq\\ln{q}.$$\n",
    "\n",
    "From now onwards Stirling's approximation will be applied to all expressions of entropy!"
   ]
  },
  {
   "cell_type": "markdown",
   "metadata": {},
   "source": [
    "Now we can proceed with calculating temperature as:\n",
    "    \n",
    "(7) $$\\frac{1}{T}=\\frac{\\partial S}{\\partial U}=\\frac{\\partial S}{\\partial q}\\frac{\\partial q}{\\partial U}.$$"
   ]
  },
  {
   "cell_type": "markdown",
   "metadata": {},
   "source": [
    "Let us notice that:\n",
    "    \n",
    "(8) $$\\frac{\\partial S}{\\partial q} = k\\ln{q+3N} + k - k\\ln{q} -k = k\\ln{\\left(1+\\frac{3N}{q}\\right)},$$"
   ]
  },
  {
   "cell_type": "markdown",
   "metadata": {},
   "source": [
    "$\\frac{\\partial q}{\\partial U}$ can be calculated using (4):\n",
    "    \n",
    "(9) $$1=\\frac{\\partial U}{\\partial U}=\\frac{\\partial}{\\partial U}\\left(\\frac{3N}{2}\\right)+\\frac{\\partial q}{\\partial U}\\hbar \\omega \\Rightarrow \\frac{\\partial q}{\\partial U}=\\frac{1}{\\hbar\\omega}.$$"
   ]
  },
  {
   "cell_type": "markdown",
   "metadata": {},
   "source": [
    "Consequently, we have:\n",
    "\n",
    "(10) $$\\frac{1}{T}=\\frac{k}{\\hbar \\omega}\\ln{\\left(1+\\frac{3N}{q}\\right).}$$\n",
    "\n",
    "Let us notice that:\n",
    "\n",
    "(11) $$q=\\frac{3N}{e^{\\frac{\\hbar \\omega}{kT}}-1}.$$"
   ]
  },
  {
   "cell_type": "markdown",
   "metadata": {},
   "source": [
    "We can use the above equation to eliminate $q$ from (4):\n",
    "\n",
    "(12) $$U=\\frac{3N\\hbar \\omega}{2}+\\frac{3N\\hbar \\omega}{e^{\\frac{\\hbar\\omega}{kT}}-1}$$    \n"
   ]
  },
  {
   "cell_type": "markdown",
   "metadata": {},
   "source": [
    "Now we may apply our result from (12) to (1):\n",
    "    \n",
    "(13) $$C_{V}=\\left(\\frac{\\partial U}{\\partial T}\\right)_{V}=\\frac{3N\\hbar^{2}\\omega^{2}}{kT^{2}}\\frac{e^{\\frac{\\hbar \\omega}{kT}}}{\\left(e^{\\frac{\\hbar\\omega}{kT}}-1\\right)^{2}}.$$"
   ]
  }
 ],
 "metadata": {
  "kernelspec": {
   "display_name": "Python 3",
   "language": "python",
   "name": "python3"
  },
  "language_info": {
   "codemirror_mode": {
    "name": "ipython",
    "version": 3
   },
   "file_extension": ".py",
   "mimetype": "text/x-python",
   "name": "python",
   "nbconvert_exporter": "python",
   "pygments_lexer": "ipython3",
   "version": "3.8.5"
  }
 },
 "nbformat": 4,
 "nbformat_minor": 4
}
