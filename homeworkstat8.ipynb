{
 "cells": [
  {
   "cell_type": "markdown",
   "metadata": {},
   "source": [
    "# Solutions to Statystical Mechanics Probelms - Set 8\n",
    "*by Mateusz Kmieć*"
   ]
  },
  {
   "cell_type": "markdown",
   "metadata": {},
   "source": [
    "# Problem 4.\n",
    "\n",
    "Calculate expected energy for gas of bosons in temperature T. You should get:\n",
    "\n",
    "(1) $$<E> = U = -\\Omega = \\frac{kTV}{l^{3}}Li_{\\frac{5}{2}}(y),$$"
   ]
  },
  {
   "cell_type": "markdown",
   "metadata": {},
   "source": [
    "where $l=\\frac{h}{\\sqrt{2\\pi mkT}}$."
   ]
  },
  {
   "cell_type": "markdown",
   "metadata": {},
   "source": [
    "Expected value of energy can be expressed as:"
   ]
  },
  {
   "cell_type": "markdown",
   "metadata": {},
   "source": [
    "(2) $$<E>=\\sum_{k}^{\\infty}E_{k}P_{k}=\\frac{1}{\\Xi}\\sum_{k}^{\\infty}E_{k}e^{-\\beta E_{k}+\\beta\\mu N_{k}},$$"
   ]
  },
  {
   "cell_type": "markdown",
   "metadata": {},
   "source": [
    "(3) $$U(T,V,\\mu)=<E>=-\\frac{\\partial}{\\partial \\beta}\\ln{\\Xi\\left(T,V,\\mu\\right)}+\\mu<N>.$$"
   ]
  },
  {
   "cell_type": "markdown",
   "metadata": {},
   "source": [
    "We know that:"
   ]
  },
  {
   "cell_type": "markdown",
   "metadata": {},
   "source": [
    "(4) $$\\Xi=\\sum_{k}^{\\infty}e^{-\\beta E_{k}+\\beta \\mu N_{k}}=\\int_{0}^{\\infty}f(E)e^{-\\beta (E-\\mu)}dE,$$"
   ]
  },
  {
   "cell_type": "markdown",
   "metadata": {},
   "source": [
    "where $f(E)=\\frac{2 \\pi V }{h^{3}}(2m)^{\\frac{2}{3}}\\sqrt{E}$ denotes the density of states."
   ]
  },
  {
   "cell_type": "markdown",
   "metadata": {},
   "source": [
    "Consequently, (2) can be transformed into:\n",
    "    \n",
    "(5) $$<E>=\\frac{2\\pi V (2m)^{\\frac{3}{2}}}{h^{3}}\\left(\\int_{0}^{\\infty} \\frac{(E-\\mu)}{e^{\\beta(E-\\mu)}-1}\\sqrt{E}\\right)+\\mu<N>.$$"
   ]
  },
  {
   "cell_type": "markdown",
   "metadata": {},
   "source": [
    "(6) $$<E>=\\frac{2\\pi V (2m)^{\\frac{3}{2}}}{h^{3}}\\left(\\int_{0}^{\\infty}\\frac{E\\sqrt{E}}{e^{\\beta(E-\\mu)}-1}- \\mu \\int_{0}^{\\infty} \\frac{\\sqrt{E}}{e^{\\beta(E-\\mu)}-1}\\right)+\\mu<N>,$$"
   ]
  },
  {
   "cell_type": "markdown",
   "metadata": {},
   "source": [
    "where\n",
    "\n",
    "(7) $$<N>=\\frac{2\\pi V (2m)^{\\frac{3}{2}}}{h^{3}}\\int_{0}^{\\infty} \\frac{\\sqrt{E}}{e^{\\beta(E-\\mu)}-1}dE$$."
   ]
  },
  {
   "cell_type": "markdown",
   "metadata": {},
   "source": [
    "Which results in equation (6) taking the form:\n",
    "    \n",
    "(8) $$<E>=\\frac{2\\pi V (2m)^{\\frac{3}{2}}}{h^{3}}\\int_{0}^{\\infty}\\frac{E\\sqrt{E}}{e^{\\beta(E-\\mu)}-1}dE.$$"
   ]
  },
  {
   "cell_type": "markdown",
   "metadata": {},
   "source": [
    "We can smplify the above equation by applying the following substitution:\n",
    "    \n",
    "(9) $$E\\rightarrow xkT, \\ dE \\rightarrow \\left(kT\\right)dx, \\ e^{\\beta\\mu}\\rightarrow y,$$\n",
    "\n",
    "where $\\beta=kT$. Consequently, we get:\n",
    "\n",
    "(10)$$<E>=\\frac{2\\pi V kT (2mkT)^{\\frac{3}{2}}}{h^{3}}\\int_{0}^{\\infty}\\frac{x^{\\frac{3}{2}}}{\\frac{e^{x}}{y}-1}dx.$$"
   ]
  },
  {
   "cell_type": "markdown",
   "metadata": {},
   "source": [
    "Now the only thing left to do is to calculate:\n",
    "    \n",
    "(11) $$I=\\int_{0}^{\\infty}\\frac{x^{\\frac{3}{2}}}{\\frac{e^{x}}{y}-1}dx,$$"
   ]
  },
  {
   "cell_type": "markdown",
   "metadata": {},
   "source": [
    "which can be written as:\n",
    "    \n",
    "(12) $$I=\\int_{0}^{\\infty}\\frac{x^{\\frac{3}{2}}ye^{-x}}{1-e^{-x}y}dx.$$"
   ]
  },
  {
   "cell_type": "markdown",
   "metadata": {},
   "source": [
    "Now we can make use of the following identity:\n",
    "\n",
    "(13) $$\\frac{z}{1-z}=\\sum_{n=0}^{\\infty}z^{n}-1=\\sum_{n=1}^{\\infty}z^{n},$$\n",
    "\n",
    "where $-1<z<1$."
   ]
  },
  {
   "cell_type": "markdown",
   "metadata": {},
   "source": [
    "As a result we have:\n",
    "    \n",
    "(14) $$I=\\int_{0}^{\\infty}\\sum_{n=1}^{\\infty}x^{\\frac{3}{2}}\\left(ye^{-x}\\right)^{n}dx=\\sum_{n=1}^{\\infty}y^{n}\\int_{0}^{\\infty}x^{\\frac{3}{2}}e^{-nx}dx,$$"
   ]
  },
  {
   "cell_type": "markdown",
   "metadata": {},
   "source": [
    "where \n",
    "\n",
    "(15) $$\\int_{0}^{\\infty}x^{\\frac{3}{2}}e^{-nx}dx=\\frac{3\\sqrt{\\pi}}{4n^{\\frac{5}{2}}},$$\n",
    "\n",
    "\n",
    "see Appendix equation (16)."
   ]
  },
  {
   "cell_type": "markdown",
   "metadata": {},
   "source": [
    "Consequently,\n",
    "\n",
    "(16) $$I=\\frac{3\\sqrt{\\pi}}{4}\\sum_{n=1}^{\\infty}\\frac{y^{n}}{n^{\\frac{5}{2}}}=\\frac{3\\sqrt{\\pi}}{4}Li_{\\frac{5}{2}}\\left(e^{\\beta \\mu}\\right).$$"
   ]
  },
  {
   "cell_type": "markdown",
   "metadata": {},
   "source": [
    "All things considered:\n",
    "    \n",
    "(17) $$<E>=\\frac{2\\pi V kT (2mkT)^{\\frac{3}{2}}}{h^{3}} \\frac{3\\sqrt{\\pi}}{4}Li_{\\frac{5}{2}}\\left(e^{\\beta \\mu}\\right)$$"
   ]
  },
  {
   "cell_type": "markdown",
   "metadata": {},
   "source": [
    "(18) $$<E>=\\frac{kTV (2mkT\\pi)^{\\frac{3}{2}}}{h^{3}} \\frac{3}{2}Li_{\\frac{5}{2}}\\left(e^{\\beta \\mu}\\right)$$"
   ]
  },
  {
   "cell_type": "markdown",
   "metadata": {},
   "source": [
    "After all of these calculations we reach to the final conclusion:"
   ]
  },
  {
   "cell_type": "markdown",
   "metadata": {},
   "source": [
    "(19) $$<E>=\\frac{kTV}{l^{3}} \\frac{3}{2}Li_{\\frac{5}{2}}\\left(e^{\\beta \\mu}\\right),$$"
   ]
  },
  {
   "cell_type": "markdown",
   "metadata": {},
   "source": [
    "My resut differs from the one posed in the problem question by the factor of $\\frac{3}{2}$."
   ]
  },
  {
   "cell_type": "markdown",
   "metadata": {},
   "source": [
    "### Appendix"
   ]
  },
  {
   "cell_type": "markdown",
   "metadata": {},
   "source": [
    "Let us first notice that:\n",
    "    \n",
    "(20) $$2\\int_{0}^{\\infty}e^{-x^{2}}dx=2\\int_{0}^{\\infty}\\frac{1}{2}e^{-t}t^{-\\frac{1}{2}}dt=\\Gamma\\left(\\frac{1}{2}\\right)=\\sqrt{\\pi}.$$"
   ]
  },
  {
   "cell_type": "markdown",
   "metadata": {},
   "source": [
    "where $\\Gamma(z)=\\int_{0}^{\\infty} e^{-t}t^{z-1}dt$ is the gamma function. \n",
    "Gamma function has the following property:\n",
    "    \n",
    "(21) $$\\Gamma\\left(z+1\\right)=z\\Gamma(z)$$"
   ]
  },
  {
   "cell_type": "markdown",
   "metadata": {},
   "source": [
    "Consequantly, on the one hand we have:\n",
    "\n",
    "(22) $$\\Gamma\\left(\\frac{3}{2}\\right)=\\frac{1}{2}\\Gamma\\left(\\frac{1}{2}\\right)=\\frac{\\sqrt{\\pi}}{2},$$\n",
    "\n",
    "(23) $$\\Gamma\\left(\\frac{5}{2}\\right)=\\frac{3}{2}\\Gamma\\left(\\frac{3}{2}\\right)=\\frac{3}{4}\\sqrt{\\pi}.$$"
   ]
  },
  {
   "cell_type": "markdown",
   "metadata": {},
   "source": [
    "On the other hand $\\Gamma\\left(\\frac{5}{2}\\right)$ can be expressed as:"
   ]
  },
  {
   "cell_type": "markdown",
   "metadata": {},
   "source": [
    "(24) $$2\\int_{0}^{\\infty}e^{-x^{2}}dx=\\int_{0}^{\\infty}e^{-t}t^{\\frac{3}{2}}dt=\\Gamma\\left(\\frac{5}{2}\\right).$$"
   ]
  },
  {
   "cell_type": "markdown",
   "metadata": {},
   "source": [
    "It can be thus shown that:\n",
    "    \n",
    "(25) $$\\int_{0}^{\\infty}e^{-nt}t^{\\frac{3}{2}}dt=\\Gamma\\left(\\frac{5}{2}\\right)\\cdot\\frac{1}{n^{\\frac{3}{2}}}=\\frac{3\\sqrt{\\pi}}{4n^{\\frac{5}{2}}}.$$"
   ]
  }
 ],
 "metadata": {
  "kernelspec": {
   "display_name": "Python 3",
   "language": "python",
   "name": "python3"
  },
  "language_info": {
   "codemirror_mode": {
    "name": "ipython",
    "version": 3
   },
   "file_extension": ".py",
   "mimetype": "text/x-python",
   "name": "python",
   "nbconvert_exporter": "python",
   "pygments_lexer": "ipython3",
   "version": "3.8.5"
  }
 },
 "nbformat": 4,
 "nbformat_minor": 4
}
