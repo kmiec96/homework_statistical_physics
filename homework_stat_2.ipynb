{
 "cells": [
  {
   "cell_type": "markdown",
   "metadata": {},
   "source": [
    "# SET 2"
   ]
  },
  {
   "cell_type": "markdown",
   "metadata": {},
   "source": [
    "### Probelm 3 "
   ]
  },
  {
   "cell_type": "markdown",
   "metadata": {},
   "source": [
    "Prove Carnot’s theorem: No engine operating between two heat reservoirs can be\n",
    "more efficient than a Carnot engine operating between the same reservoirs."
   ]
  },
  {
   "cell_type": "markdown",
   "metadata": {},
   "source": [
    "(1) $$\\eta_{I}=\\frac{W}{Q_{H}}=1-\\frac{T_{C}}{T_{H}}$$"
   ]
  },
  {
   "cell_type": "markdown",
   "metadata": {},
   "source": [
    "$W$ is the work done by the system (energy exiting the system as work), $Q_{H}$ is the heat put\n",
    "into the system (heat energy entering the system), $T_{C}$ is the absolute temperature of the cold\n",
    "reservoir, and $T_{H}$ is the absolute temperature of the hot reservoir."
   ]
  },
  {
   "cell_type": "markdown",
   "metadata": {},
   "source": [
    "![](carnot.png)\n",
    "Figure.1:   source: Kerson Huang - Statistical mechanics - Wiley (1987), pg. 12, Fig 1.5."
   ]
  },
  {
   "cell_type": "markdown",
   "metadata": {},
   "source": [
    "### II LAW OF THERMODYNAMICS:\n"
   ]
  },
  {
   "cell_type": "markdown",
   "metadata": {},
   "source": [
    "Kelvin Statement. *There exists no thermodynamic transformation whose sole\n",
    "effect is to extract a quantity of heat from a given heat reservoir and to\n",
    "convert it entirely into work.*"
   ]
  },
  {
   "cell_type": "markdown",
   "metadata": {},
   "source": [
    "First let us assume:\n",
    "\n",
    "\n",
    "(2) $$\\eta_{I}=\\frac{W}{Q_{2}}>\\eta_{R}=\\frac{W^{'}}{Q_{2}^{'}},$$\n",
    "\n",
    "where $\\eta_{R}$ represents the efficiency of a reversable carnot engine, $\\eta_{I}$ is the efficiency of \n",
    "an irreversible engine.\n",
    "\n",
    "\n",
    "Let us first examine what happens when both engines recieve the same amount of energy $Q_{2}=Q_{2}^{'}$.\n",
    "We can see from (2) that the aforementioned condition results in $W>W^{'}\\Rightarrow W-W^{'}>0$. \n",
    "\n",
    "We will be able to prove Carnot's theorem by contradiction if we replace engine $X$ from Figure.1 with a heat pomp recieving $Q_{1}^{'}$ from the sink and releasing $Q_{2}^{'}$ to the source. \n",
    "\n",
    "\n",
    "From the first law of thermodynamics we have the expression for work in each cycle (for both engines $C$, $X$):\n",
    "\n",
    "(2) $$W=Q_{2}-Q_{1},$$\n",
    "\n",
    "(3) $$W^{'}=Q_{2}^{'}-Q_{1}^{'}.$$\n",
    "\n",
    "Consequently, after $N$ cycles of engine C and $N^{'}$ cycles (in reverse - we reverse the cycle of $X$ replacing it with a heat pump) of engine $X$. The total work done by both engines can be written as:\n",
    "\n",
    "(4) $$W_{\\text{total}}=W-W^{'},$$\n",
    "\n",
    "(5) $$W_{\\text{total}}=N(Q_{2}-Q_{1})-N^{'}(Q_{2}^{'}-Q_{1}^{'}),$$\n",
    "\n",
    "It is convenient to group quantities (with and without prime) together in the following way:\n",
    "\n",
    "(6) $$(Q_{2})_{\\text{total}}=NQ_{2}-N^{'}Q_{2}^{'}=0,$$ (we chose engines such that $Q_{2}=Q_{2}^{'}$)\n",
    "\n",
    "(7) $$(Q_{1})_{\\text{total}}=NQ_{1}-N^{'}Q_{1}^{'}.$$\n",
    "\n",
    "\n",
    "\n",
    "\n"
   ]
  },
  {
   "cell_type": "markdown",
   "metadata": {},
   "source": [
    "Then we will be able to write:\n",
    "    \n",
    "(8) $$W_{\\text{total}}=(Q_{2})_{\\text{total}}-(Q_{1})_{\\text{total}}=-(Q_{1})_{\\text{total}}.$$"
   ]
  },
  {
   "cell_type": "markdown",
   "metadata": {},
   "source": [
    "For $W_{\\text{total}}>0$ the system of these two engines behaves like an engine whose sole purpose is to convert the quantity of heat absorbed from heat reservoir $(T_{1})$ entirely into work. Which stands in clear contradiction to the Kelvin's statement. Hence, our assumption that $\\eta_{I}>\\eta_{R}$ must be wrong. This formulation is synonymous with the statement that no engine operating between two heat reservoirs can be\n",
    "more efficient than a Carnot engine operating between these two reservoirs. "
   ]
  },
  {
   "cell_type": "markdown",
   "metadata": {},
   "source": [
    "We already know that $W_{\\text{ total}}$ cannot be positive and instead must be $W_{total}\\leq 0$. \n",
    "From where we derive that:\n",
    "(9) $$\\frac{Q_{1}^{'}}{Q_{2}^{'}}\\leq \\frac{Q_{1}}{Q_{2}},$$\n",
    "\n",
    "which is to say that \n",
    "\n",
    "(9) $$ \\eta_{I}=\\left(1-\\frac{Q_{1}}{Q_{2}}\\right)\\leq \\eta_{R}=\\left(1-\\frac{Q_{1}^{'}}{Q_{2}^{'}}\\right).$$\n",
    "\n",
    "Consequently, all possible engines have lower efficiency the Carnot engine and all Carnot engines operating between the same two temperatures have the same efficiency."
   ]
  },
  {
   "cell_type": "markdown",
   "metadata": {},
   "source": [
    "### Problem 5 b).\n",
    "\n",
    "Find the efficiency of reversed Carnot’s cycle as exemplified by a heat pump where the efficiency is defined as:\n",
    "\n",
    "(10) $$\\eta_{I}=\\frac{Q_{H}}{W},$$\n",
    "\n",
    "where $Q_{H}$ is the amount of heat transferred to the room and $W$ is the work. Calculate the\n",
    "efficiency as a function of minimal and maximal temperatures of the cycle: $T_{min}$ i $T_{max}$."
   ]
  },
  {
   "cell_type": "markdown",
   "metadata": {},
   "source": [
    "![title](heat.png)\n",
    "\n",
    "source: http://hyperphysics.phy-astr.gsu.edu/hbase/thermo/heatpump.html"
   ]
  },
  {
   "cell_type": "markdown",
   "metadata": {},
   "source": [
    "First of all let us notice that:\n",
    "\n",
    "(11) $$W=Q_{H}-Q_{C},$$\n",
    "\n",
    "where $Q_{C}$ is the energy transferred from the cold reservoir. \n",
    "\n",
    "Consquently, for a heat pump we have:\n",
    "\n",
    "(12) $$\\eta_{I}=\\frac{Q_{H}}{Q_{H}-Q_{C}}.$$"
   ]
  },
  {
   "cell_type": "markdown",
   "metadata": {},
   "source": [
    "Now if we analyse the change of entropy for a reversable engine we get:\n",
    "    \n",
    "(13) $$\\Delta S = \\Delta S_{C} + \\Delta S_{H} = \\frac{|Q_{C}|}{T_{C}} - \\frac{|Q_{H}|}{T_{H}}=0,$$\n",
    "\n",
    "where $T_{C}$ is $T_{min}$, $T_{H}$ is $T_{max}$."
   ]
  },
  {
   "cell_type": "markdown",
   "metadata": {},
   "source": [
    "From which, we infer that:\n",
    "\n",
    "(14) $$\\frac{|Q_{C}|}{|Q_{H}|}=\\frac{T_{C}}{T_{H}}.$$"
   ]
  },
  {
   "cell_type": "markdown",
   "metadata": {},
   "source": [
    "If we combine (13) and (14) we will end up with:\n",
    "    \n",
    "(15) $$\\eta_{I}=\\frac{1}{1-\\frac{T_{C}}{T_{H}}}=\\frac{T_{H}}{T_{H}-T_{C}}=\\frac{T_{max}}{T_{max}-T_{min}}.$$"
   ]
  }
 ],
 "metadata": {
  "kernelspec": {
   "display_name": "Python 3",
   "language": "python",
   "name": "python3"
  },
  "language_info": {
   "codemirror_mode": {
    "name": "ipython",
    "version": 3
   },
   "file_extension": ".py",
   "mimetype": "text/x-python",
   "name": "python",
   "nbconvert_exporter": "python",
   "pygments_lexer": "ipython3",
   "version": "3.8.5"
  }
 },
 "nbformat": 4,
 "nbformat_minor": 4
}
